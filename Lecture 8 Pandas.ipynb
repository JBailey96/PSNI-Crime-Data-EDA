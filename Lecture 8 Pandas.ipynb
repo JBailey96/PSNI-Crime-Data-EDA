{
 "cells": [
  {
   "cell_type": "markdown",
   "metadata": {},
   "source": [
    "# Welcome to the Live Pandas Demo\n",
    "Week 3 Lecture 8\n",
    "\n",
    "This demo will show you how pandas works. This continues on from the pandas tutorial you should have done as part of Lab 3. "
   ]
  },
  {
   "cell_type": "markdown",
   "metadata": {},
   "source": [
    "## Import the Dataset\n",
    "To use your dataset pandas must first load it into a dataframe (like a table)<br>Example:\n",
    "- Read the csv into a dataframe\n",
    "- Print out the 7 elements of the dataframe"
   ]
  },
  {
   "cell_type": "code",
   "execution_count": 1,
   "metadata": {},
   "outputs": [],
   "source": [
    "import pandas as pd"
   ]
  },
  {
   "cell_type": "markdown",
   "metadata": {},
   "source": [
    "<b>Above is how you import the pandas library. This will need to be done each time you create a new Juptyer Notebook to ensure you have the correct libraries for you to work with</b>"
   ]
  },
  {
   "cell_type": "code",
   "execution_count": 2,
   "metadata": {},
   "outputs": [],
   "source": [
    "df = pd.read_csv(\"Games.csv\")"
   ]
  },
  {
   "cell_type": "markdown",
   "metadata": {},
   "source": [
    "<b> The above implies that Games.csv is saved in the same directory as your notebook. If it's not, enter the relative directory i.e. /MyDatasets/Example/Games.csv"
   ]
  },
  {
   "cell_type": "code",
   "execution_count": 3,
   "metadata": {},
   "outputs": [
    {
     "data": {
      "text/html": [
       "<div>\n",
       "<style scoped>\n",
       "    .dataframe tbody tr th:only-of-type {\n",
       "        vertical-align: middle;\n",
       "    }\n",
       "\n",
       "    .dataframe tbody tr th {\n",
       "        vertical-align: top;\n",
       "    }\n",
       "\n",
       "    .dataframe thead th {\n",
       "        text-align: right;\n",
       "    }\n",
       "</style>\n",
       "<table border=\"1\" class=\"dataframe\">\n",
       "  <thead>\n",
       "    <tr style=\"text-align: right;\">\n",
       "      <th></th>\n",
       "      <th>Game</th>\n",
       "      <th>Category</th>\n",
       "      <th>Price</th>\n",
       "      <th>QuantitySold</th>\n",
       "      <th>UserRating</th>\n",
       "    </tr>\n",
       "  </thead>\n",
       "  <tbody>\n",
       "    <tr>\n",
       "      <th>0</th>\n",
       "      <td>Mario</td>\n",
       "      <td>Platform</td>\n",
       "      <td>20</td>\n",
       "      <td>500000.0</td>\n",
       "      <td>Awful</td>\n",
       "    </tr>\n",
       "    <tr>\n",
       "      <th>1</th>\n",
       "      <td>Portal_2</td>\n",
       "      <td>Puzzle</td>\n",
       "      <td>25</td>\n",
       "      <td>400000.0</td>\n",
       "      <td>Good</td>\n",
       "    </tr>\n",
       "    <tr>\n",
       "      <th>2</th>\n",
       "      <td>Pokemon_Diamond</td>\n",
       "      <td>Role-Playing</td>\n",
       "      <td>40</td>\n",
       "      <td>100000.0</td>\n",
       "      <td>OK</td>\n",
       "    </tr>\n",
       "    <tr>\n",
       "      <th>3</th>\n",
       "      <td>No_Man's_Sky</td>\n",
       "      <td>Survival</td>\n",
       "      <td>60</td>\n",
       "      <td>NaN</td>\n",
       "      <td>NaN</td>\n",
       "    </tr>\n",
       "    <tr>\n",
       "      <th>4</th>\n",
       "      <td>Half_Life</td>\n",
       "      <td>Zombie</td>\n",
       "      <td>20</td>\n",
       "      <td>3.0</td>\n",
       "      <td>Great</td>\n",
       "    </tr>\n",
       "    <tr>\n",
       "      <th>5</th>\n",
       "      <td>CSGO</td>\n",
       "      <td>FPS</td>\n",
       "      <td>£5</td>\n",
       "      <td>10.0</td>\n",
       "      <td>Bad</td>\n",
       "    </tr>\n",
       "    <tr>\n",
       "      <th>6</th>\n",
       "      <td>Portal</td>\n",
       "      <td>puzle</td>\n",
       "      <td>15</td>\n",
       "      <td>300000.0</td>\n",
       "      <td>OK</td>\n",
       "    </tr>\n",
       "  </tbody>\n",
       "</table>\n",
       "</div>"
      ],
      "text/plain": [
       "              Game      Category Price  QuantitySold UserRating\n",
       "0            Mario      Platform    20      500000.0      Awful\n",
       "1         Portal_2        Puzzle    25      400000.0       Good\n",
       "2  Pokemon_Diamond  Role-Playing    40      100000.0         OK\n",
       "3     No_Man's_Sky      Survival    60           NaN        NaN\n",
       "4        Half_Life        Zombie    20           3.0      Great\n",
       "5             CSGO           FPS    £5          10.0        Bad\n",
       "6           Portal         puzle    15      300000.0         OK"
      ]
     },
     "execution_count": 3,
     "metadata": {},
     "output_type": "execute_result"
    }
   ],
   "source": [
    "df.head(7)"
   ]
  },
  {
   "cell_type": "code",
   "execution_count": 4,
   "metadata": {},
   "outputs": [
    {
     "name": "stdout",
     "output_type": "stream",
     "text": [
      "<class 'pandas.core.frame.DataFrame'>\n",
      "RangeIndex: 7 entries, 0 to 6\n",
      "Data columns (total 5 columns):\n",
      "Game            7 non-null object\n",
      "Category        7 non-null object\n",
      "Price           7 non-null object\n",
      "QuantitySold    6 non-null float64\n",
      "UserRating      6 non-null object\n",
      "dtypes: float64(1), object(4)\n",
      "memory usage: 360.0+ bytes\n"
     ]
    }
   ],
   "source": [
    "df.info()"
   ]
  },
  {
   "cell_type": "markdown",
   "metadata": {},
   "source": [
    "<b>.info() prints a summary of the DataFrame. We can spot some issues with the dataset from this;\n",
    "    <ul>\n",
    "        <li>One QuantitySold and one UserRating cell are empty</li>\n",
    "        <li>Price is an object (string) but should be an integer (int64)</li>\n",
    "    </ul>    \n",
    "</b>"
   ]
  },
  {
   "cell_type": "code",
   "execution_count": 5,
   "metadata": {},
   "outputs": [
    {
     "name": "stdout",
     "output_type": "stream",
     "text": [
      "FPS             1\n",
      "puzle           1\n",
      "Puzzle          1\n",
      "Survival        1\n",
      "Role-Playing    1\n",
      "Platform        1\n",
      "Zombie          1\n",
      "Name: Category, dtype: int64\n"
     ]
    }
   ],
   "source": [
    "print(df[\"Category\"].value_counts(ascending=True))"
   ]
  },
  {
   "cell_type": "markdown",
   "metadata": {},
   "source": [
    "## Cleaning the Data\n",
    "It is important to clean the dataset as large datasets are typically unprocessed and are prone to errors.<br><b>Fully understand your rows with errors and correct them if possible before deleting any data</b><br><br>It is recommended to create functions, which you will be able to reuse throughout your project.<br><br>Common Steps:\n",
    "- Remove any missing/invalid values (NaN) and remove the row\n",
    "- Reset the index\n",
    "- Pass your data through the function"
   ]
  },
  {
   "cell_type": "code",
   "execution_count": 6,
   "metadata": {},
   "outputs": [
    {
     "data": {
      "text/html": [
       "<div>\n",
       "<style scoped>\n",
       "    .dataframe tbody tr th:only-of-type {\n",
       "        vertical-align: middle;\n",
       "    }\n",
       "\n",
       "    .dataframe tbody tr th {\n",
       "        vertical-align: top;\n",
       "    }\n",
       "\n",
       "    .dataframe thead th {\n",
       "        text-align: right;\n",
       "    }\n",
       "</style>\n",
       "<table border=\"1\" class=\"dataframe\">\n",
       "  <thead>\n",
       "    <tr style=\"text-align: right;\">\n",
       "      <th></th>\n",
       "      <th>Game</th>\n",
       "      <th>Category</th>\n",
       "      <th>Price</th>\n",
       "      <th>QuantitySold</th>\n",
       "      <th>UserRating</th>\n",
       "    </tr>\n",
       "  </thead>\n",
       "  <tbody>\n",
       "    <tr>\n",
       "      <th>0</th>\n",
       "      <td>Mario</td>\n",
       "      <td>Platform</td>\n",
       "      <td>20</td>\n",
       "      <td>500000.0</td>\n",
       "      <td>Awful</td>\n",
       "    </tr>\n",
       "    <tr>\n",
       "      <th>1</th>\n",
       "      <td>Portal_2</td>\n",
       "      <td>Puzzle</td>\n",
       "      <td>25</td>\n",
       "      <td>400000.0</td>\n",
       "      <td>Good</td>\n",
       "    </tr>\n",
       "    <tr>\n",
       "      <th>2</th>\n",
       "      <td>Pokemon_Diamond</td>\n",
       "      <td>Role-Playing</td>\n",
       "      <td>40</td>\n",
       "      <td>100000.0</td>\n",
       "      <td>OK</td>\n",
       "    </tr>\n",
       "    <tr>\n",
       "      <th>4</th>\n",
       "      <td>Half_Life</td>\n",
       "      <td>Zombie</td>\n",
       "      <td>20</td>\n",
       "      <td>3.0</td>\n",
       "      <td>Great</td>\n",
       "    </tr>\n",
       "    <tr>\n",
       "      <th>5</th>\n",
       "      <td>CSGO</td>\n",
       "      <td>FPS</td>\n",
       "      <td>£5</td>\n",
       "      <td>10.0</td>\n",
       "      <td>Bad</td>\n",
       "    </tr>\n",
       "    <tr>\n",
       "      <th>6</th>\n",
       "      <td>Portal</td>\n",
       "      <td>puzle</td>\n",
       "      <td>15</td>\n",
       "      <td>300000.0</td>\n",
       "      <td>OK</td>\n",
       "    </tr>\n",
       "  </tbody>\n",
       "</table>\n",
       "</div>"
      ],
      "text/plain": [
       "              Game      Category Price  QuantitySold UserRating\n",
       "0            Mario      Platform    20      500000.0      Awful\n",
       "1         Portal_2        Puzzle    25      400000.0       Good\n",
       "2  Pokemon_Diamond  Role-Playing    40      100000.0         OK\n",
       "4        Half_Life        Zombie    20           3.0      Great\n",
       "5             CSGO           FPS    £5          10.0        Bad\n",
       "6           Portal         puzle    15      300000.0         OK"
      ]
     },
     "execution_count": 6,
     "metadata": {},
     "output_type": "execute_result"
    }
   ],
   "source": [
    "df = df.dropna()\n",
    "df.head(7)"
   ]
  },
  {
   "cell_type": "code",
   "execution_count": 7,
   "metadata": {},
   "outputs": [
    {
     "data": {
      "text/html": [
       "<div>\n",
       "<style scoped>\n",
       "    .dataframe tbody tr th:only-of-type {\n",
       "        vertical-align: middle;\n",
       "    }\n",
       "\n",
       "    .dataframe tbody tr th {\n",
       "        vertical-align: top;\n",
       "    }\n",
       "\n",
       "    .dataframe thead th {\n",
       "        text-align: right;\n",
       "    }\n",
       "</style>\n",
       "<table border=\"1\" class=\"dataframe\">\n",
       "  <thead>\n",
       "    <tr style=\"text-align: right;\">\n",
       "      <th></th>\n",
       "      <th>Game</th>\n",
       "      <th>Category</th>\n",
       "      <th>Price</th>\n",
       "      <th>QuantitySold</th>\n",
       "      <th>UserRating</th>\n",
       "    </tr>\n",
       "  </thead>\n",
       "  <tbody>\n",
       "    <tr>\n",
       "      <th>0</th>\n",
       "      <td>Mario</td>\n",
       "      <td>Platform</td>\n",
       "      <td>20</td>\n",
       "      <td>500000.0</td>\n",
       "      <td>Awful</td>\n",
       "    </tr>\n",
       "    <tr>\n",
       "      <th>1</th>\n",
       "      <td>Portal_2</td>\n",
       "      <td>Puzzle</td>\n",
       "      <td>25</td>\n",
       "      <td>400000.0</td>\n",
       "      <td>Good</td>\n",
       "    </tr>\n",
       "    <tr>\n",
       "      <th>2</th>\n",
       "      <td>Pokemon_Diamond</td>\n",
       "      <td>Role-Playing</td>\n",
       "      <td>40</td>\n",
       "      <td>100000.0</td>\n",
       "      <td>OK</td>\n",
       "    </tr>\n",
       "    <tr>\n",
       "      <th>3</th>\n",
       "      <td>Half_Life</td>\n",
       "      <td>Zombie</td>\n",
       "      <td>20</td>\n",
       "      <td>3.0</td>\n",
       "      <td>Great</td>\n",
       "    </tr>\n",
       "    <tr>\n",
       "      <th>4</th>\n",
       "      <td>CSGO</td>\n",
       "      <td>FPS</td>\n",
       "      <td>£5</td>\n",
       "      <td>10.0</td>\n",
       "      <td>Bad</td>\n",
       "    </tr>\n",
       "    <tr>\n",
       "      <th>5</th>\n",
       "      <td>Portal</td>\n",
       "      <td>puzle</td>\n",
       "      <td>15</td>\n",
       "      <td>300000.0</td>\n",
       "      <td>OK</td>\n",
       "    </tr>\n",
       "  </tbody>\n",
       "</table>\n",
       "</div>"
      ],
      "text/plain": [
       "              Game      Category Price  QuantitySold UserRating\n",
       "0            Mario      Platform    20      500000.0      Awful\n",
       "1         Portal_2        Puzzle    25      400000.0       Good\n",
       "2  Pokemon_Diamond  Role-Playing    40      100000.0         OK\n",
       "3        Half_Life        Zombie    20           3.0      Great\n",
       "4             CSGO           FPS    £5          10.0        Bad\n",
       "5           Portal         puzle    15      300000.0         OK"
      ]
     },
     "execution_count": 7,
     "metadata": {},
     "output_type": "execute_result"
    }
   ],
   "source": [
    "df = df.reset_index(drop = True)\n",
    "df.head(7)"
   ]
  },
  {
   "cell_type": "markdown",
   "metadata": {},
   "source": [
    "<b>When dropping rows, it is important to reset the index as otherwise you will have missing keys"
   ]
  },
  {
   "cell_type": "markdown",
   "metadata": {},
   "source": [
    "To Do:\n",
    "- Write a function which replaces words written in UserRating with numeric values e.g. Good = 4"
   ]
  },
  {
   "cell_type": "code",
   "execution_count": 8,
   "metadata": {},
   "outputs": [],
   "source": [
    "def replace_words_with_num(word):\n",
    "    if word == \"Great\":\n",
    "        return 5\n",
    "    elif word == \"Good\":\n",
    "        return 4\n",
    "    elif word == \"OK\":\n",
    "        return 3\n",
    "    elif word == \"Bad\":\n",
    "        return 2\n",
    "    elif word == \"Awful\":\n",
    "        return 1"
   ]
  },
  {
   "cell_type": "code",
   "execution_count": 9,
   "metadata": {},
   "outputs": [],
   "source": [
    "df[\"UserRating\"] = df[\"UserRating\"].apply(replace_words_with_num)"
   ]
  },
  {
   "cell_type": "code",
   "execution_count": 10,
   "metadata": {},
   "outputs": [
    {
     "data": {
      "text/html": [
       "<div>\n",
       "<style scoped>\n",
       "    .dataframe tbody tr th:only-of-type {\n",
       "        vertical-align: middle;\n",
       "    }\n",
       "\n",
       "    .dataframe tbody tr th {\n",
       "        vertical-align: top;\n",
       "    }\n",
       "\n",
       "    .dataframe thead th {\n",
       "        text-align: right;\n",
       "    }\n",
       "</style>\n",
       "<table border=\"1\" class=\"dataframe\">\n",
       "  <thead>\n",
       "    <tr style=\"text-align: right;\">\n",
       "      <th></th>\n",
       "      <th>Game</th>\n",
       "      <th>Category</th>\n",
       "      <th>Price</th>\n",
       "      <th>QuantitySold</th>\n",
       "      <th>UserRating</th>\n",
       "    </tr>\n",
       "  </thead>\n",
       "  <tbody>\n",
       "    <tr>\n",
       "      <th>0</th>\n",
       "      <td>Mario</td>\n",
       "      <td>Platform</td>\n",
       "      <td>20</td>\n",
       "      <td>500000.0</td>\n",
       "      <td>1</td>\n",
       "    </tr>\n",
       "    <tr>\n",
       "      <th>1</th>\n",
       "      <td>Portal_2</td>\n",
       "      <td>Puzzle</td>\n",
       "      <td>25</td>\n",
       "      <td>400000.0</td>\n",
       "      <td>4</td>\n",
       "    </tr>\n",
       "    <tr>\n",
       "      <th>2</th>\n",
       "      <td>Pokemon_Diamond</td>\n",
       "      <td>Role-Playing</td>\n",
       "      <td>40</td>\n",
       "      <td>100000.0</td>\n",
       "      <td>3</td>\n",
       "    </tr>\n",
       "    <tr>\n",
       "      <th>3</th>\n",
       "      <td>Half_Life</td>\n",
       "      <td>Zombie</td>\n",
       "      <td>20</td>\n",
       "      <td>3.0</td>\n",
       "      <td>5</td>\n",
       "    </tr>\n",
       "    <tr>\n",
       "      <th>4</th>\n",
       "      <td>CSGO</td>\n",
       "      <td>FPS</td>\n",
       "      <td>£5</td>\n",
       "      <td>10.0</td>\n",
       "      <td>2</td>\n",
       "    </tr>\n",
       "    <tr>\n",
       "      <th>5</th>\n",
       "      <td>Portal</td>\n",
       "      <td>puzle</td>\n",
       "      <td>15</td>\n",
       "      <td>300000.0</td>\n",
       "      <td>3</td>\n",
       "    </tr>\n",
       "  </tbody>\n",
       "</table>\n",
       "</div>"
      ],
      "text/plain": [
       "              Game      Category Price  QuantitySold  UserRating\n",
       "0            Mario      Platform    20      500000.0           1\n",
       "1         Portal_2        Puzzle    25      400000.0           4\n",
       "2  Pokemon_Diamond  Role-Playing    40      100000.0           3\n",
       "3        Half_Life        Zombie    20           3.0           5\n",
       "4             CSGO           FPS    £5          10.0           2\n",
       "5           Portal         puzle    15      300000.0           3"
      ]
     },
     "execution_count": 10,
     "metadata": {},
     "output_type": "execute_result"
    }
   ],
   "source": [
    "df.head(7)"
   ]
  },
  {
   "cell_type": "markdown",
   "metadata": {},
   "source": [
    "Example:\n",
    "- Write a function which checks for underscores ( _ ), removes it, replaces it with a space and changes all letters to lower case\n",
    "- Pass your data through the function"
   ]
  },
  {
   "cell_type": "code",
   "execution_count": 11,
   "metadata": {},
   "outputs": [],
   "source": [
    "def clean_name(txt):\n",
    "    txt = txt.replace(\"_\", \" \")\n",
    "    return txt.lower()     "
   ]
  },
  {
   "cell_type": "code",
   "execution_count": 12,
   "metadata": {},
   "outputs": [],
   "source": [
    "df[\"Game\"] = df[\"Game\"].apply(clean_name)"
   ]
  },
  {
   "cell_type": "markdown",
   "metadata": {},
   "source": [
    "<b>This line applies the function we wrote above to the specified column and overwrites the old data with the new applied data"
   ]
  },
  {
   "cell_type": "code",
   "execution_count": 13,
   "metadata": {},
   "outputs": [
    {
     "data": {
      "text/html": [
       "<div>\n",
       "<style scoped>\n",
       "    .dataframe tbody tr th:only-of-type {\n",
       "        vertical-align: middle;\n",
       "    }\n",
       "\n",
       "    .dataframe tbody tr th {\n",
       "        vertical-align: top;\n",
       "    }\n",
       "\n",
       "    .dataframe thead th {\n",
       "        text-align: right;\n",
       "    }\n",
       "</style>\n",
       "<table border=\"1\" class=\"dataframe\">\n",
       "  <thead>\n",
       "    <tr style=\"text-align: right;\">\n",
       "      <th></th>\n",
       "      <th>Game</th>\n",
       "      <th>Category</th>\n",
       "      <th>Price</th>\n",
       "      <th>QuantitySold</th>\n",
       "      <th>UserRating</th>\n",
       "    </tr>\n",
       "  </thead>\n",
       "  <tbody>\n",
       "    <tr>\n",
       "      <th>0</th>\n",
       "      <td>mario</td>\n",
       "      <td>Platform</td>\n",
       "      <td>20</td>\n",
       "      <td>500000.0</td>\n",
       "      <td>1</td>\n",
       "    </tr>\n",
       "    <tr>\n",
       "      <th>1</th>\n",
       "      <td>portal 2</td>\n",
       "      <td>Puzzle</td>\n",
       "      <td>25</td>\n",
       "      <td>400000.0</td>\n",
       "      <td>4</td>\n",
       "    </tr>\n",
       "    <tr>\n",
       "      <th>2</th>\n",
       "      <td>pokemon diamond</td>\n",
       "      <td>Role-Playing</td>\n",
       "      <td>40</td>\n",
       "      <td>100000.0</td>\n",
       "      <td>3</td>\n",
       "    </tr>\n",
       "    <tr>\n",
       "      <th>3</th>\n",
       "      <td>half life</td>\n",
       "      <td>Zombie</td>\n",
       "      <td>20</td>\n",
       "      <td>3.0</td>\n",
       "      <td>5</td>\n",
       "    </tr>\n",
       "    <tr>\n",
       "      <th>4</th>\n",
       "      <td>csgo</td>\n",
       "      <td>FPS</td>\n",
       "      <td>£5</td>\n",
       "      <td>10.0</td>\n",
       "      <td>2</td>\n",
       "    </tr>\n",
       "    <tr>\n",
       "      <th>5</th>\n",
       "      <td>portal</td>\n",
       "      <td>puzle</td>\n",
       "      <td>15</td>\n",
       "      <td>300000.0</td>\n",
       "      <td>3</td>\n",
       "    </tr>\n",
       "  </tbody>\n",
       "</table>\n",
       "</div>"
      ],
      "text/plain": [
       "              Game      Category Price  QuantitySold  UserRating\n",
       "0            mario      Platform    20      500000.0           1\n",
       "1         portal 2        Puzzle    25      400000.0           4\n",
       "2  pokemon diamond  Role-Playing    40      100000.0           3\n",
       "3        half life        Zombie    20           3.0           5\n",
       "4             csgo           FPS    £5          10.0           2\n",
       "5           portal         puzle    15      300000.0           3"
      ]
     },
     "execution_count": 13,
     "metadata": {},
     "output_type": "execute_result"
    }
   ],
   "source": [
    "df.head(7)"
   ]
  },
  {
   "cell_type": "markdown",
   "metadata": {},
   "source": [
    "Example:\n",
    "\n",
    "- Write a function which checks for symbols e.g £ and removes it\n",
    "- Pass your data through the function"
   ]
  },
  {
   "cell_type": "code",
   "execution_count": 14,
   "metadata": {},
   "outputs": [],
   "source": [
    "def remove_symbol(symbol):\n",
    "    symbol = symbol.replace(\"£\", \"\")\n",
    "    return float(symbol)"
   ]
  },
  {
   "cell_type": "markdown",
   "metadata": {},
   "source": [
    "<b>We need to ensure that the datatype is set to float, otherwise it returns a string"
   ]
  },
  {
   "cell_type": "code",
   "execution_count": 15,
   "metadata": {},
   "outputs": [],
   "source": [
    "df[\"Price\"] = df[\"Price\"].apply(remove_symbol)"
   ]
  },
  {
   "cell_type": "code",
   "execution_count": 16,
   "metadata": {
    "scrolled": true
   },
   "outputs": [
    {
     "data": {
      "text/html": [
       "<div>\n",
       "<style scoped>\n",
       "    .dataframe tbody tr th:only-of-type {\n",
       "        vertical-align: middle;\n",
       "    }\n",
       "\n",
       "    .dataframe tbody tr th {\n",
       "        vertical-align: top;\n",
       "    }\n",
       "\n",
       "    .dataframe thead th {\n",
       "        text-align: right;\n",
       "    }\n",
       "</style>\n",
       "<table border=\"1\" class=\"dataframe\">\n",
       "  <thead>\n",
       "    <tr style=\"text-align: right;\">\n",
       "      <th></th>\n",
       "      <th>Game</th>\n",
       "      <th>Category</th>\n",
       "      <th>Price</th>\n",
       "      <th>QuantitySold</th>\n",
       "      <th>UserRating</th>\n",
       "    </tr>\n",
       "  </thead>\n",
       "  <tbody>\n",
       "    <tr>\n",
       "      <th>0</th>\n",
       "      <td>mario</td>\n",
       "      <td>Platform</td>\n",
       "      <td>20.0</td>\n",
       "      <td>500000.0</td>\n",
       "      <td>1</td>\n",
       "    </tr>\n",
       "    <tr>\n",
       "      <th>1</th>\n",
       "      <td>portal 2</td>\n",
       "      <td>Puzzle</td>\n",
       "      <td>25.0</td>\n",
       "      <td>400000.0</td>\n",
       "      <td>4</td>\n",
       "    </tr>\n",
       "    <tr>\n",
       "      <th>2</th>\n",
       "      <td>pokemon diamond</td>\n",
       "      <td>Role-Playing</td>\n",
       "      <td>40.0</td>\n",
       "      <td>100000.0</td>\n",
       "      <td>3</td>\n",
       "    </tr>\n",
       "    <tr>\n",
       "      <th>3</th>\n",
       "      <td>half life</td>\n",
       "      <td>Zombie</td>\n",
       "      <td>20.0</td>\n",
       "      <td>3.0</td>\n",
       "      <td>5</td>\n",
       "    </tr>\n",
       "    <tr>\n",
       "      <th>4</th>\n",
       "      <td>csgo</td>\n",
       "      <td>FPS</td>\n",
       "      <td>5.0</td>\n",
       "      <td>10.0</td>\n",
       "      <td>2</td>\n",
       "    </tr>\n",
       "    <tr>\n",
       "      <th>5</th>\n",
       "      <td>portal</td>\n",
       "      <td>puzle</td>\n",
       "      <td>15.0</td>\n",
       "      <td>300000.0</td>\n",
       "      <td>3</td>\n",
       "    </tr>\n",
       "  </tbody>\n",
       "</table>\n",
       "</div>"
      ],
      "text/plain": [
       "              Game      Category  Price  QuantitySold  UserRating\n",
       "0            mario      Platform   20.0      500000.0           1\n",
       "1         portal 2        Puzzle   25.0      400000.0           4\n",
       "2  pokemon diamond  Role-Playing   40.0      100000.0           3\n",
       "3        half life        Zombie   20.0           3.0           5\n",
       "4             csgo           FPS    5.0          10.0           2\n",
       "5           portal         puzle   15.0      300000.0           3"
      ]
     },
     "execution_count": 16,
     "metadata": {},
     "output_type": "execute_result"
    }
   ],
   "source": [
    "df.head(7)"
   ]
  },
  {
   "cell_type": "markdown",
   "metadata": {},
   "source": [
    "Option 1:"
   ]
  },
  {
   "cell_type": "code",
   "execution_count": 17,
   "metadata": {},
   "outputs": [
    {
     "name": "stdout",
     "output_type": "stream",
     "text": [
      "mario\n",
      "portal 2\n",
      "pokemon diamond\n",
      "half life\n",
      "csgo\n",
      "portal\n"
     ]
    }
   ],
   "source": [
    "for index, row in df.iterrows():\n",
    "    print(row[\"Game\"])"
   ]
  },
  {
   "cell_type": "markdown",
   "metadata": {},
   "source": [
    "<b>Reading through each row in a loop, and returning the \"Game\" cell for each row"
   ]
  },
  {
   "cell_type": "markdown",
   "metadata": {},
   "source": [
    "Option 2:"
   ]
  },
  {
   "cell_type": "code",
   "execution_count": 18,
   "metadata": {},
   "outputs": [
    {
     "name": "stdout",
     "output_type": "stream",
     "text": [
      "mario\n",
      "portal 2\n",
      "pokemon diamond\n",
      "half life\n",
      "csgo\n",
      "portal\n"
     ]
    }
   ],
   "source": [
    "games = list(df['Game'])\n",
    "for game in games:\n",
    "    print(game)"
   ]
  },
  {
   "cell_type": "markdown",
   "metadata": {},
   "source": [
    "<b>Fetching all the items in the \"Game\" column before the loop and then printing them all out"
   ]
  },
  {
   "cell_type": "code",
   "execution_count": 19,
   "metadata": {
    "scrolled": true
   },
   "outputs": [
    {
     "name": "stdout",
     "output_type": "stream",
     "text": [
      "<class 'pandas.core.frame.DataFrame'>\n",
      "RangeIndex: 6 entries, 0 to 5\n",
      "Data columns (total 5 columns):\n",
      "Game            6 non-null object\n",
      "Category        6 non-null object\n",
      "Price           6 non-null float64\n",
      "QuantitySold    6 non-null float64\n",
      "UserRating      6 non-null int64\n",
      "dtypes: float64(2), int64(1), object(2)\n",
      "memory usage: 320.0+ bytes\n"
     ]
    }
   ],
   "source": [
    "df.info()"
   ]
  },
  {
   "cell_type": "markdown",
   "metadata": {},
   "source": [
    "<b> As you can see we've fixed the issues; All 5 rows are complete and datatypes (float/int) are correct </b>"
   ]
  },
  {
   "cell_type": "markdown",
   "metadata": {},
   "source": [
    "# Selecting items using logic\n",
    "\n",
    "At several stages in your analysis, it is important to narrow down what items you are looking for. Pandas has an inbuilt way of doing this, that is very efficient and simple to do."
   ]
  },
  {
   "cell_type": "code",
   "execution_count": 20,
   "metadata": {},
   "outputs": [
    {
     "name": "stdout",
     "output_type": "stream",
     "text": [
      "        Game  Category  Price  QuantitySold  UserRating\n",
      "0      mario  Platform   20.0      500000.0           1\n",
      "3  half life    Zombie   20.0           3.0           5\n",
      "4       csgo       FPS    5.0          10.0           2\n",
      "5     portal     puzle   15.0      300000.0           3\n"
     ]
    }
   ],
   "source": [
    "cheapGames = df[df[\"Price\"] < 25]\n",
    "print(cheapGames)"
   ]
  },
  {
   "cell_type": "markdown",
   "metadata": {},
   "source": [
    "<b>Using pandas dataframe rules to select rows where the price is less than 25 from df. This method returns another dataframe for which each item meets our criteria"
   ]
  },
  {
   "cell_type": "code",
   "execution_count": 21,
   "metadata": {},
   "outputs": [
    {
     "name": "stdout",
     "output_type": "stream",
     "text": [
      "              Game      Category  Price  QuantitySold  UserRating\n",
      "1         portal 2        Puzzle   25.0      400000.0           4\n",
      "2  pokemon diamond  Role-Playing   40.0      100000.0           3\n"
     ]
    }
   ],
   "source": [
    "significantRevenue = df[(df[\"Price\"] > 20) & (df[\"QuantitySold\"] >= 100000)]\n",
    "print(significantRevenue)"
   ]
  },
  {
   "cell_type": "markdown",
   "metadata": {},
   "source": [
    "<b>This is combining two logical rules for our data extraction.<br><br>Each rule is in brackets and are connected by either:<br>an '&' (AND symbol)<br>an '|' (OR symbol)"
   ]
  },
  {
   "cell_type": "code",
   "execution_count": 22,
   "metadata": {},
   "outputs": [
    {
     "name": "stdout",
     "output_type": "stream",
     "text": [
      "1           portal 2\n",
      "2    pokemon diamond\n",
      "Name: Game, dtype: object\n"
     ]
    }
   ],
   "source": [
    "print(significantRevenue[\"Game\"])"
   ]
  },
  {
   "cell_type": "markdown",
   "metadata": {},
   "source": [
    "<b>Once you have extracted the data as shown above, you have made another dataframe from which you can use all the same functions as any other dataframe"
   ]
  },
  {
   "cell_type": "markdown",
   "metadata": {},
   "source": [
    "# Adding New Column\n",
    "\n",
    "Sometimes it might be easier to add a column to your dataset, which can summarise two columns together."
   ]
  },
  {
   "cell_type": "markdown",
   "metadata": {},
   "source": [
    "Option 1:"
   ]
  },
  {
   "cell_type": "code",
   "execution_count": 23,
   "metadata": {},
   "outputs": [],
   "source": [
    "df[\"RevenueOption1\"] = df[\"Price\"]*df[\"QuantitySold\"]"
   ]
  },
  {
   "cell_type": "markdown",
   "metadata": {},
   "source": [
    "<b> We've cleaned our data and so the columns we need are both identified as floats. That means we can multiply the columns </b>"
   ]
  },
  {
   "cell_type": "markdown",
   "metadata": {},
   "source": [
    "Option 2:"
   ]
  },
  {
   "cell_type": "code",
   "execution_count": 24,
   "metadata": {},
   "outputs": [],
   "source": [
    "df.insert(4, \"RevenueOption2\", df[\"Price\"]*df[\"QuantitySold\"])"
   ]
  },
  {
   "cell_type": "markdown",
   "metadata": {},
   "source": [
    "<b> Option 2 allows you to specify what index you want your new column to be inserted to.  "
   ]
  },
  {
   "cell_type": "code",
   "execution_count": 25,
   "metadata": {},
   "outputs": [
    {
     "data": {
      "text/html": [
       "<div>\n",
       "<style scoped>\n",
       "    .dataframe tbody tr th:only-of-type {\n",
       "        vertical-align: middle;\n",
       "    }\n",
       "\n",
       "    .dataframe tbody tr th {\n",
       "        vertical-align: top;\n",
       "    }\n",
       "\n",
       "    .dataframe thead th {\n",
       "        text-align: right;\n",
       "    }\n",
       "</style>\n",
       "<table border=\"1\" class=\"dataframe\">\n",
       "  <thead>\n",
       "    <tr style=\"text-align: right;\">\n",
       "      <th></th>\n",
       "      <th>Game</th>\n",
       "      <th>Category</th>\n",
       "      <th>Price</th>\n",
       "      <th>QuantitySold</th>\n",
       "      <th>RevenueOption2</th>\n",
       "      <th>UserRating</th>\n",
       "      <th>RevenueOption1</th>\n",
       "    </tr>\n",
       "  </thead>\n",
       "  <tbody>\n",
       "    <tr>\n",
       "      <th>0</th>\n",
       "      <td>mario</td>\n",
       "      <td>Platform</td>\n",
       "      <td>20.0</td>\n",
       "      <td>500000.0</td>\n",
       "      <td>10000000.0</td>\n",
       "      <td>1</td>\n",
       "      <td>10000000.0</td>\n",
       "    </tr>\n",
       "    <tr>\n",
       "      <th>1</th>\n",
       "      <td>portal 2</td>\n",
       "      <td>Puzzle</td>\n",
       "      <td>25.0</td>\n",
       "      <td>400000.0</td>\n",
       "      <td>10000000.0</td>\n",
       "      <td>4</td>\n",
       "      <td>10000000.0</td>\n",
       "    </tr>\n",
       "    <tr>\n",
       "      <th>2</th>\n",
       "      <td>pokemon diamond</td>\n",
       "      <td>Role-Playing</td>\n",
       "      <td>40.0</td>\n",
       "      <td>100000.0</td>\n",
       "      <td>4000000.0</td>\n",
       "      <td>3</td>\n",
       "      <td>4000000.0</td>\n",
       "    </tr>\n",
       "    <tr>\n",
       "      <th>3</th>\n",
       "      <td>half life</td>\n",
       "      <td>Zombie</td>\n",
       "      <td>20.0</td>\n",
       "      <td>3.0</td>\n",
       "      <td>60.0</td>\n",
       "      <td>5</td>\n",
       "      <td>60.0</td>\n",
       "    </tr>\n",
       "    <tr>\n",
       "      <th>4</th>\n",
       "      <td>csgo</td>\n",
       "      <td>FPS</td>\n",
       "      <td>5.0</td>\n",
       "      <td>10.0</td>\n",
       "      <td>50.0</td>\n",
       "      <td>2</td>\n",
       "      <td>50.0</td>\n",
       "    </tr>\n",
       "    <tr>\n",
       "      <th>5</th>\n",
       "      <td>portal</td>\n",
       "      <td>puzle</td>\n",
       "      <td>15.0</td>\n",
       "      <td>300000.0</td>\n",
       "      <td>4500000.0</td>\n",
       "      <td>3</td>\n",
       "      <td>4500000.0</td>\n",
       "    </tr>\n",
       "  </tbody>\n",
       "</table>\n",
       "</div>"
      ],
      "text/plain": [
       "              Game      Category  Price  QuantitySold  RevenueOption2  \\\n",
       "0            mario      Platform   20.0      500000.0      10000000.0   \n",
       "1         portal 2        Puzzle   25.0      400000.0      10000000.0   \n",
       "2  pokemon diamond  Role-Playing   40.0      100000.0       4000000.0   \n",
       "3        half life        Zombie   20.0           3.0            60.0   \n",
       "4             csgo           FPS    5.0          10.0            50.0   \n",
       "5           portal         puzle   15.0      300000.0       4500000.0   \n",
       "\n",
       "   UserRating  RevenueOption1  \n",
       "0           1      10000000.0  \n",
       "1           4      10000000.0  \n",
       "2           3       4000000.0  \n",
       "3           5            60.0  \n",
       "4           2            50.0  \n",
       "5           3       4500000.0  "
      ]
     },
     "execution_count": 25,
     "metadata": {},
     "output_type": "execute_result"
    }
   ],
   "source": [
    "df.head(7)"
   ]
  },
  {
   "cell_type": "markdown",
   "metadata": {},
   "source": [
    "# Combining 2 datasets\n",
    "\n",
    "One dataset will not contain all the information you will need. Adding multiple datasets is necessary to gather grater meaning to solving your problem. \n",
    "\n",
    "Common steps:\n",
    "\n",
    "- Create a new dataframe and read in a new csv file which you will use to combine with your existing one\n",
    "- Combine the 2 datasets together "
   ]
  },
  {
   "cell_type": "code",
   "execution_count": 26,
   "metadata": {},
   "outputs": [
    {
     "data": {
      "text/html": [
       "<div>\n",
       "<style scoped>\n",
       "    .dataframe tbody tr th:only-of-type {\n",
       "        vertical-align: middle;\n",
       "    }\n",
       "\n",
       "    .dataframe tbody tr th {\n",
       "        vertical-align: top;\n",
       "    }\n",
       "\n",
       "    .dataframe thead th {\n",
       "        text-align: right;\n",
       "    }\n",
       "</style>\n",
       "<table border=\"1\" class=\"dataframe\">\n",
       "  <thead>\n",
       "    <tr style=\"text-align: right;\">\n",
       "      <th></th>\n",
       "      <th>Game;NA_Sales;EU_Sales</th>\n",
       "    </tr>\n",
       "  </thead>\n",
       "  <tbody>\n",
       "    <tr>\n",
       "      <th>0</th>\n",
       "      <td>csgo;12;3000</td>\n",
       "    </tr>\n",
       "    <tr>\n",
       "      <th>1</th>\n",
       "      <td>mario;200000;300000</td>\n",
       "    </tr>\n",
       "    <tr>\n",
       "      <th>2</th>\n",
       "      <td>pokemon diamond;300;400</td>\n",
       "    </tr>\n",
       "    <tr>\n",
       "      <th>3</th>\n",
       "      <td>half life;500;600000</td>\n",
       "    </tr>\n",
       "    <tr>\n",
       "      <th>4</th>\n",
       "      <td>portal 2;100000;300000</td>\n",
       "    </tr>\n",
       "    <tr>\n",
       "      <th>5</th>\n",
       "      <td>portal;30000;50000</td>\n",
       "    </tr>\n",
       "  </tbody>\n",
       "</table>\n",
       "</div>"
      ],
      "text/plain": [
       "    Game;NA_Sales;EU_Sales\n",
       "0             csgo;12;3000\n",
       "1      mario;200000;300000\n",
       "2  pokemon diamond;300;400\n",
       "3     half life;500;600000\n",
       "4   portal 2;100000;300000\n",
       "5       portal;30000;50000"
      ]
     },
     "execution_count": 26,
     "metadata": {},
     "output_type": "execute_result"
    }
   ],
   "source": [
    "df2 = pd.read_csv(\"GamesRegionSales.csv\")\n",
    "df2.head(7)"
   ]
  },
  {
   "cell_type": "markdown",
   "metadata": {},
   "source": [
    "<b>This file has not opened correctly, because read_csv seperates comma by default, but this dataset uses a semi-colon as a seperator. To fix this issue we have to specify what we want to seperate the dataset with after reading it in.<br><br>Use sep=\"\" when you read in the csv to specify which character to seperate it by."
   ]
  },
  {
   "cell_type": "code",
   "execution_count": 27,
   "metadata": {},
   "outputs": [
    {
     "data": {
      "text/html": [
       "<div>\n",
       "<style scoped>\n",
       "    .dataframe tbody tr th:only-of-type {\n",
       "        vertical-align: middle;\n",
       "    }\n",
       "\n",
       "    .dataframe tbody tr th {\n",
       "        vertical-align: top;\n",
       "    }\n",
       "\n",
       "    .dataframe thead th {\n",
       "        text-align: right;\n",
       "    }\n",
       "</style>\n",
       "<table border=\"1\" class=\"dataframe\">\n",
       "  <thead>\n",
       "    <tr style=\"text-align: right;\">\n",
       "      <th></th>\n",
       "      <th>Game</th>\n",
       "      <th>NA_Sales</th>\n",
       "      <th>EU_Sales</th>\n",
       "    </tr>\n",
       "  </thead>\n",
       "  <tbody>\n",
       "    <tr>\n",
       "      <th>0</th>\n",
       "      <td>csgo</td>\n",
       "      <td>12</td>\n",
       "      <td>3000</td>\n",
       "    </tr>\n",
       "    <tr>\n",
       "      <th>1</th>\n",
       "      <td>mario</td>\n",
       "      <td>200000</td>\n",
       "      <td>300000</td>\n",
       "    </tr>\n",
       "    <tr>\n",
       "      <th>2</th>\n",
       "      <td>pokemon diamond</td>\n",
       "      <td>300</td>\n",
       "      <td>400</td>\n",
       "    </tr>\n",
       "    <tr>\n",
       "      <th>3</th>\n",
       "      <td>half life</td>\n",
       "      <td>500</td>\n",
       "      <td>600000</td>\n",
       "    </tr>\n",
       "    <tr>\n",
       "      <th>4</th>\n",
       "      <td>portal 2</td>\n",
       "      <td>100000</td>\n",
       "      <td>300000</td>\n",
       "    </tr>\n",
       "    <tr>\n",
       "      <th>5</th>\n",
       "      <td>portal</td>\n",
       "      <td>30000</td>\n",
       "      <td>50000</td>\n",
       "    </tr>\n",
       "  </tbody>\n",
       "</table>\n",
       "</div>"
      ],
      "text/plain": [
       "              Game  NA_Sales  EU_Sales\n",
       "0             csgo        12      3000\n",
       "1            mario    200000    300000\n",
       "2  pokemon diamond       300       400\n",
       "3        half life       500    600000\n",
       "4         portal 2    100000    300000\n",
       "5           portal     30000     50000"
      ]
     },
     "execution_count": 27,
     "metadata": {},
     "output_type": "execute_result"
    }
   ],
   "source": [
    "df2 = pd.read_csv(\"GamesRegionSales.csv\", sep=\";\")\n",
    "df2.head(7)"
   ]
  },
  {
   "cell_type": "markdown",
   "metadata": {},
   "source": [
    "<b>As you may notice, this dataset is not in the same order as the first one, and that is why we have to make sure that the indexes in both datasets line up"
   ]
  },
  {
   "cell_type": "code",
   "execution_count": 28,
   "metadata": {},
   "outputs": [
    {
     "name": "stdout",
     "output_type": "stream",
     "text": [
      "4\n",
      "0\n",
      "2\n",
      "3\n",
      "1\n",
      "5\n"
     ]
    }
   ],
   "source": [
    "for index,row in df2.iterrows():\n",
    "    print(df.index[df[\"Game\"] == row[\"Game\"]][0])"
   ]
  },
  {
   "cell_type": "markdown",
   "metadata": {},
   "source": [
    "<b>Above, we are looping through the items in df2 and printing the index of each item in df where the \"Game\" matches the \"Game\" in our current iteration of df2.<br>For example, the first game in df2 is the 5th game (index 4) in df"
   ]
  },
  {
   "cell_type": "code",
   "execution_count": 29,
   "metadata": {},
   "outputs": [],
   "source": [
    "def addSalesDataNA(gameName):\n",
    "    return list(df2[\"NA_Sales\"][df2[\"Game\"] == gameName])[0]"
   ]
  },
  {
   "cell_type": "code",
   "execution_count": 30,
   "metadata": {},
   "outputs": [],
   "source": [
    "def addSalesDataEU(gameName):\n",
    "    return list(df2[\"EU_Sales\"][df2[\"Game\"] == gameName])[0]"
   ]
  },
  {
   "cell_type": "markdown",
   "metadata": {},
   "source": [
    "<b>These functions take the name of the game and return the sales for that game. They do so by returning the EU_Sales from df2 where the game name matches the game in df2 ([df2[\"Game\"] == gameName]). This returns a list with one item so we can get the first item by index ([0]). "
   ]
  },
  {
   "cell_type": "code",
   "execution_count": 31,
   "metadata": {},
   "outputs": [
    {
     "data": {
      "text/html": [
       "<div>\n",
       "<style scoped>\n",
       "    .dataframe tbody tr th:only-of-type {\n",
       "        vertical-align: middle;\n",
       "    }\n",
       "\n",
       "    .dataframe tbody tr th {\n",
       "        vertical-align: top;\n",
       "    }\n",
       "\n",
       "    .dataframe thead th {\n",
       "        text-align: right;\n",
       "    }\n",
       "</style>\n",
       "<table border=\"1\" class=\"dataframe\">\n",
       "  <thead>\n",
       "    <tr style=\"text-align: right;\">\n",
       "      <th></th>\n",
       "      <th>Game</th>\n",
       "      <th>Category</th>\n",
       "      <th>Price</th>\n",
       "      <th>QuantitySold</th>\n",
       "      <th>RevenueOption2</th>\n",
       "      <th>UserRating</th>\n",
       "      <th>RevenueOption1</th>\n",
       "      <th>NA_Sales</th>\n",
       "      <th>EU_Sales</th>\n",
       "    </tr>\n",
       "  </thead>\n",
       "  <tbody>\n",
       "    <tr>\n",
       "      <th>0</th>\n",
       "      <td>mario</td>\n",
       "      <td>Platform</td>\n",
       "      <td>20.0</td>\n",
       "      <td>500000.0</td>\n",
       "      <td>10000000.0</td>\n",
       "      <td>1</td>\n",
       "      <td>10000000.0</td>\n",
       "      <td>200000</td>\n",
       "      <td>300000</td>\n",
       "    </tr>\n",
       "    <tr>\n",
       "      <th>1</th>\n",
       "      <td>portal 2</td>\n",
       "      <td>Puzzle</td>\n",
       "      <td>25.0</td>\n",
       "      <td>400000.0</td>\n",
       "      <td>10000000.0</td>\n",
       "      <td>4</td>\n",
       "      <td>10000000.0</td>\n",
       "      <td>100000</td>\n",
       "      <td>300000</td>\n",
       "    </tr>\n",
       "    <tr>\n",
       "      <th>2</th>\n",
       "      <td>pokemon diamond</td>\n",
       "      <td>Role-Playing</td>\n",
       "      <td>40.0</td>\n",
       "      <td>100000.0</td>\n",
       "      <td>4000000.0</td>\n",
       "      <td>3</td>\n",
       "      <td>4000000.0</td>\n",
       "      <td>300</td>\n",
       "      <td>400</td>\n",
       "    </tr>\n",
       "    <tr>\n",
       "      <th>3</th>\n",
       "      <td>half life</td>\n",
       "      <td>Zombie</td>\n",
       "      <td>20.0</td>\n",
       "      <td>3.0</td>\n",
       "      <td>60.0</td>\n",
       "      <td>5</td>\n",
       "      <td>60.0</td>\n",
       "      <td>500</td>\n",
       "      <td>600000</td>\n",
       "    </tr>\n",
       "    <tr>\n",
       "      <th>4</th>\n",
       "      <td>csgo</td>\n",
       "      <td>FPS</td>\n",
       "      <td>5.0</td>\n",
       "      <td>10.0</td>\n",
       "      <td>50.0</td>\n",
       "      <td>2</td>\n",
       "      <td>50.0</td>\n",
       "      <td>12</td>\n",
       "      <td>3000</td>\n",
       "    </tr>\n",
       "    <tr>\n",
       "      <th>5</th>\n",
       "      <td>portal</td>\n",
       "      <td>puzle</td>\n",
       "      <td>15.0</td>\n",
       "      <td>300000.0</td>\n",
       "      <td>4500000.0</td>\n",
       "      <td>3</td>\n",
       "      <td>4500000.0</td>\n",
       "      <td>30000</td>\n",
       "      <td>50000</td>\n",
       "    </tr>\n",
       "  </tbody>\n",
       "</table>\n",
       "</div>"
      ],
      "text/plain": [
       "              Game      Category  Price  QuantitySold  RevenueOption2  \\\n",
       "0            mario      Platform   20.0      500000.0      10000000.0   \n",
       "1         portal 2        Puzzle   25.0      400000.0      10000000.0   \n",
       "2  pokemon diamond  Role-Playing   40.0      100000.0       4000000.0   \n",
       "3        half life        Zombie   20.0           3.0            60.0   \n",
       "4             csgo           FPS    5.0          10.0            50.0   \n",
       "5           portal         puzle   15.0      300000.0       4500000.0   \n",
       "\n",
       "   UserRating  RevenueOption1  NA_Sales  EU_Sales  \n",
       "0           1      10000000.0    200000    300000  \n",
       "1           4      10000000.0    100000    300000  \n",
       "2           3       4000000.0       300       400  \n",
       "3           5            60.0       500    600000  \n",
       "4           2            50.0        12      3000  \n",
       "5           3       4500000.0     30000     50000  "
      ]
     },
     "execution_count": 31,
     "metadata": {},
     "output_type": "execute_result"
    }
   ],
   "source": [
    "df[\"NA_Sales\"] = df[\"Game\"].apply(addSalesDataNA)\n",
    "df[\"EU_Sales\"] = df[\"Game\"].apply(addSalesDataEU)\n",
    "df.head(7)"
   ]
  },
  {
   "cell_type": "markdown",
   "metadata": {},
   "source": [
    "<b> There are other ways of doing this but this is a simple method that could be useful for adding a small dataset </b>"
   ]
  }
 ],
 "metadata": {
  "kernelspec": {
   "display_name": "Python 3",
   "language": "python",
   "name": "python3"
  },
  "language_info": {
   "codemirror_mode": {
    "name": "ipython",
    "version": 3
   },
   "file_extension": ".py",
   "mimetype": "text/x-python",
   "name": "python",
   "nbconvert_exporter": "python",
   "pygments_lexer": "ipython3",
   "version": "3.6.5"
  }
 },
 "nbformat": 4,
 "nbformat_minor": 2
}
