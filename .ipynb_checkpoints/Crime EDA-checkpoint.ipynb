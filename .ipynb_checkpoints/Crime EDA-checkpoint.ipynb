{
 "cells": [
  {
   "cell_type": "markdown",
   "metadata": {},
   "source": [
    "# Importing Data & Cleaning"
   ]
  },
  {
   "cell_type": "code",
   "execution_count": 1,
   "metadata": {},
   "outputs": [],
   "source": [
    "import pandas as pd\n",
    "import matplotlib.pyplot as plt\n",
    "import glob\n",
    "import os"
   ]
  },
  {
   "cell_type": "markdown",
   "metadata": {},
   "source": [
    "<b> Importing PSNI street crime data from 08-2015 to 05-2018 and displaying the first five rows </b>"
   ]
  },
  {
   "cell_type": "code",
   "execution_count": 2,
   "metadata": {},
   "outputs": [
    {
     "data": {
      "text/html": [
       "<div>\n",
       "<style scoped>\n",
       "    .dataframe tbody tr th:only-of-type {\n",
       "        vertical-align: middle;\n",
       "    }\n",
       "\n",
       "    .dataframe tbody tr th {\n",
       "        vertical-align: top;\n",
       "    }\n",
       "\n",
       "    .dataframe thead th {\n",
       "        text-align: right;\n",
       "    }\n",
       "</style>\n",
       "<table border=\"1\" class=\"dataframe\">\n",
       "  <thead>\n",
       "    <tr style=\"text-align: right;\">\n",
       "      <th></th>\n",
       "      <th>Crime ID</th>\n",
       "      <th>Month</th>\n",
       "      <th>Reported by</th>\n",
       "      <th>Falls within</th>\n",
       "      <th>Longitude</th>\n",
       "      <th>Latitude</th>\n",
       "      <th>Location</th>\n",
       "      <th>LSOA code</th>\n",
       "      <th>LSOA name</th>\n",
       "      <th>Crime type</th>\n",
       "      <th>Last outcome category</th>\n",
       "      <th>Context</th>\n",
       "    </tr>\n",
       "  </thead>\n",
       "  <tbody>\n",
       "    <tr>\n",
       "      <th>0</th>\n",
       "      <td>NaN</td>\n",
       "      <td>2015-08</td>\n",
       "      <td>Police Service of Northern Ireland</td>\n",
       "      <td>Police Service of Northern Ireland</td>\n",
       "      <td>-7.378949</td>\n",
       "      <td>54.717334</td>\n",
       "      <td>On or near Dublin Street</td>\n",
       "      <td>NaN</td>\n",
       "      <td>NaN</td>\n",
       "      <td>Anti-social behaviour</td>\n",
       "      <td>NaN</td>\n",
       "      <td>NaN</td>\n",
       "    </tr>\n",
       "    <tr>\n",
       "      <th>1</th>\n",
       "      <td>NaN</td>\n",
       "      <td>2015-08</td>\n",
       "      <td>Police Service of Northern Ireland</td>\n",
       "      <td>Police Service of Northern Ireland</td>\n",
       "      <td>-5.891082</td>\n",
       "      <td>54.222501</td>\n",
       "      <td>On or near Bracken Avenue</td>\n",
       "      <td>NaN</td>\n",
       "      <td>NaN</td>\n",
       "      <td>Anti-social behaviour</td>\n",
       "      <td>NaN</td>\n",
       "      <td>NaN</td>\n",
       "    </tr>\n",
       "    <tr>\n",
       "      <th>2</th>\n",
       "      <td>NaN</td>\n",
       "      <td>2015-08</td>\n",
       "      <td>Police Service of Northern Ireland</td>\n",
       "      <td>Police Service of Northern Ireland</td>\n",
       "      <td>-5.667276</td>\n",
       "      <td>54.663573</td>\n",
       "      <td>On or near High Street</td>\n",
       "      <td>NaN</td>\n",
       "      <td>NaN</td>\n",
       "      <td>Anti-social behaviour</td>\n",
       "      <td>NaN</td>\n",
       "      <td>NaN</td>\n",
       "    </tr>\n",
       "    <tr>\n",
       "      <th>3</th>\n",
       "      <td>NaN</td>\n",
       "      <td>2015-08</td>\n",
       "      <td>Police Service of Northern Ireland</td>\n",
       "      <td>Police Service of Northern Ireland</td>\n",
       "      <td>-5.962330</td>\n",
       "      <td>54.587243</td>\n",
       "      <td>On or near Rodney Parade</td>\n",
       "      <td>NaN</td>\n",
       "      <td>NaN</td>\n",
       "      <td>Anti-social behaviour</td>\n",
       "      <td>NaN</td>\n",
       "      <td>NaN</td>\n",
       "    </tr>\n",
       "    <tr>\n",
       "      <th>4</th>\n",
       "      <td>NaN</td>\n",
       "      <td>2015-08</td>\n",
       "      <td>Police Service of Northern Ireland</td>\n",
       "      <td>Police Service of Northern Ireland</td>\n",
       "      <td>-5.894063</td>\n",
       "      <td>54.590423</td>\n",
       "      <td>On or near Brenda Street</td>\n",
       "      <td>NaN</td>\n",
       "      <td>NaN</td>\n",
       "      <td>Anti-social behaviour</td>\n",
       "      <td>NaN</td>\n",
       "      <td>NaN</td>\n",
       "    </tr>\n",
       "  </tbody>\n",
       "</table>\n",
       "</div>"
      ],
      "text/plain": [
       "  Crime ID    Month                         Reported by  \\\n",
       "0      NaN  2015-08  Police Service of Northern Ireland   \n",
       "1      NaN  2015-08  Police Service of Northern Ireland   \n",
       "2      NaN  2015-08  Police Service of Northern Ireland   \n",
       "3      NaN  2015-08  Police Service of Northern Ireland   \n",
       "4      NaN  2015-08  Police Service of Northern Ireland   \n",
       "\n",
       "                         Falls within  Longitude   Latitude  \\\n",
       "0  Police Service of Northern Ireland  -7.378949  54.717334   \n",
       "1  Police Service of Northern Ireland  -5.891082  54.222501   \n",
       "2  Police Service of Northern Ireland  -5.667276  54.663573   \n",
       "3  Police Service of Northern Ireland  -5.962330  54.587243   \n",
       "4  Police Service of Northern Ireland  -5.894063  54.590423   \n",
       "\n",
       "                    Location  LSOA code  LSOA name             Crime type  \\\n",
       "0   On or near Dublin Street        NaN        NaN  Anti-social behaviour   \n",
       "1  On or near Bracken Avenue        NaN        NaN  Anti-social behaviour   \n",
       "2     On or near High Street        NaN        NaN  Anti-social behaviour   \n",
       "3   On or near Rodney Parade        NaN        NaN  Anti-social behaviour   \n",
       "4   On or near Brenda Street        NaN        NaN  Anti-social behaviour   \n",
       "\n",
       "   Last outcome category  Context  \n",
       "0                    NaN      NaN  \n",
       "1                    NaN      NaN  \n",
       "2                    NaN      NaN  \n",
       "3                    NaN      NaN  \n",
       "4                    NaN      NaN  "
      ]
     },
     "execution_count": 2,
     "metadata": {},
     "output_type": "execute_result"
    }
   ],
   "source": [
    "src_dir ='../../data/PSNI_StreetCrime_1Year'\n",
    "psni_crime_data = pd.DataFrame()\n",
    "list_ = []\n",
    "i = 0\n",
    "for root, dirs, files in os.walk(src_dir):\n",
    "    allFiles = glob.glob(root + \"/*.csv\")\n",
    "    for file in allFiles:\n",
    "        year_df = pd.read_csv(file,index_col=None, header=0)\n",
    "        list_.append(year_df)\n",
    "        psni_crime_data = pd.concat(list_)\n",
    "psni_crime_data.head()"
   ]
  },
  {
   "cell_type": "markdown",
   "metadata": {},
   "source": [
    "<b> Let's look at the data frame from a high level and identify the data type and stored data in the columns  </b>"
   ]
  },
  {
   "cell_type": "code",
   "execution_count": 3,
   "metadata": {},
   "outputs": [
    {
     "name": "stdout",
     "output_type": "stream",
     "text": [
      "<class 'pandas.core.frame.DataFrame'>\n",
      "Int64Index: 445745 entries, 0 to 13728\n",
      "Data columns (total 12 columns):\n",
      "Crime ID                 274726 non-null object\n",
      "Month                    445745 non-null object\n",
      "Reported by              445745 non-null object\n",
      "Falls within             445745 non-null object\n",
      "Longitude                443370 non-null float64\n",
      "Latitude                 443370 non-null float64\n",
      "Location                 445745 non-null object\n",
      "LSOA code                0 non-null float64\n",
      "LSOA name                0 non-null float64\n",
      "Crime type               445745 non-null object\n",
      "Last outcome category    0 non-null float64\n",
      "Context                  0 non-null float64\n",
      "dtypes: float64(6), object(6)\n",
      "memory usage: 44.2+ MB\n"
     ]
    }
   ],
   "source": [
    "psni_crime_data.info()"
   ]
  },
  {
   "cell_type": "markdown",
   "metadata": {},
   "source": [
    "<b> There are a number of fields that are redundant, containing all null values. Let's drop them from the table.  </b>"
   ]
  },
  {
   "cell_type": "code",
   "execution_count": 4,
   "metadata": {},
   "outputs": [],
   "source": [
    "psni_crime_data = psni_crime_data.drop(['LSOA code', 'LSOA name', 'Last outcome category', 'Context'], axis=1)"
   ]
  },
  {
   "cell_type": "code",
   "execution_count": 5,
   "metadata": {},
   "outputs": [
    {
     "name": "stdout",
     "output_type": "stream",
     "text": [
      "<class 'pandas.core.frame.DataFrame'>\n",
      "Int64Index: 445745 entries, 0 to 13728\n",
      "Data columns (total 8 columns):\n",
      "Crime ID        274726 non-null object\n",
      "Month           445745 non-null object\n",
      "Reported by     445745 non-null object\n",
      "Falls within    445745 non-null object\n",
      "Longitude       443370 non-null float64\n",
      "Latitude        443370 non-null float64\n",
      "Location        445745 non-null object\n",
      "Crime type      445745 non-null object\n",
      "dtypes: float64(2), object(6)\n",
      "memory usage: 30.6+ MB\n"
     ]
    }
   ],
   "source": [
    "psni_crime_data.info()"
   ]
  },
  {
   "cell_type": "markdown",
   "metadata": {},
   "source": [
    "<b> Crime ID is not shared by all the rows. According to the official police API (https://data.police.uk/docs/method/crime-street/), this is used as an ID for the API and is not a police identifier.  Let's investigate this ID further and decide whether it is valuable to have in the table. </b>"
   ]
  },
  {
   "cell_type": "code",
   "execution_count": 6,
   "metadata": {
    "scrolled": true
   },
   "outputs": [
    {
     "name": "stdout",
     "output_type": "stream",
     "text": [
      "Number of unique crime ids: 11728\n"
     ]
    },
    {
     "data": {
      "text/plain": [
       "Crime type\n",
       "Anti-social behaviour                0\n",
       "Bicycle theft                     2141\n",
       "Burglary                         20368\n",
       "Criminal damage and arson        52336\n",
       "Drugs                            16483\n",
       "Other crime                       7472\n",
       "Other theft                      37313\n",
       "Possession of weapons             2701\n",
       "Public order                      3334\n",
       "Robbery                           1732\n",
       "Shoplifting                      17389\n",
       "Theft from the person             1253\n",
       "Vehicle crime                    11743\n",
       "Violence and sexual offences    100461\n",
       "Name: Crime ID, dtype: int64"
      ]
     },
     "execution_count": 6,
     "metadata": {},
     "output_type": "execute_result"
    }
   ],
   "source": [
    "num_unique_crime_ids = psni_crime_data['Crime ID'].nunique()\n",
    "print(f\"Number of unique crime ids: {num_unique_crime_ids}\")\n",
    "\n",
    "psni_crime_data_crimetype = psni_crime_data.groupby('Crime type')['Crime ID'].count()\n",
    "psni_crime_data_crimetype"
   ]
  },
  {
   "cell_type": "markdown",
   "metadata": {},
   "source": [
    "<b> Anti social behaviour does not have any Crime IDs associated with them. As Crime ID is not unique this makes me suspect there could be duplicates of the same crime in the table. I'm going to investigate this by finding rows with the same Crime ID, Month, Longitude, Latitude, Location and Crime Type </b>"
   ]
  },
  {
   "cell_type": "code",
   "execution_count": 7,
   "metadata": {},
   "outputs": [],
   "source": [
    "grouped_psni_crime_data = psni_crime_data.fillna(-1).groupby(['Crime ID','Month', 'Longitude','Latitude', 'Location', 'Crime type']).size().reset_index(name='counts')"
   ]
  },
  {
   "cell_type": "code",
   "execution_count": 8,
   "metadata": {},
   "outputs": [
    {
     "name": "stdout",
     "output_type": "stream",
     "text": [
      "16.3%\n"
     ]
    }
   ],
   "source": [
    "num_duplicate_rows = grouped_psni_crime_data[grouped_psni_crime_data.counts > 1].counts.sum()\n",
    "percent_duplicate_rows = \"{:.1%}\".format(num_duplicate_rows/len(psni_crime_data))\n",
    "print(f\"{percent_duplicate_rows}\")"
   ]
  },
  {
   "cell_type": "markdown",
   "metadata": {},
   "source": [
    "<b> 16.3% of rows could be potentially duplicate. I will drop Crime ID as it is not an effective unique identifier for the rows and has no use interacting with the Police API.</b>"
   ]
  },
  {
   "cell_type": "code",
   "execution_count": 9,
   "metadata": {},
   "outputs": [],
   "source": [
    "psni_crime_data = psni_crime_data.drop(['Crime ID'], axis=1)"
   ]
  },
  {
   "attachments": {},
   "cell_type": "markdown",
   "metadata": {},
   "source": [
    "<b> 'Reported by' and 'Falls within' columns can be dropped as in all entries they are both set to 'Police Service of Northern Ireland'</b>"
   ]
  },
  {
   "cell_type": "code",
   "execution_count": 18,
   "metadata": {},
   "outputs": [
    {
     "name": "stdout",
     "output_type": "stream",
     "text": [
      "1\n",
      "1\n"
     ]
    }
   ],
   "source": [
    "print(psni_crime_data['Reported by'].nunique())\n",
    "print(psni_crime_data['Falls within'].nunique())\n",
    "psni_crime_data = psni_crime_data.drop(['Reported by', 'Falls within'], axis=1)"
   ]
  },
  {
   "cell_type": "code",
   "execution_count": 19,
   "metadata": {},
   "outputs": [
    {
     "data": {
      "text/plain": [
       "Month          object\n",
       "Longitude     float64\n",
       "Latitude      float64\n",
       "Location       object\n",
       "Crime type     object\n",
       "dtype: object"
      ]
     },
     "execution_count": 19,
     "metadata": {},
     "output_type": "execute_result"
    }
   ],
   "source": [
    "psni_crime_data.dtypes"
   ]
  },
  {
   "cell_type": "code",
   "execution_count": null,
   "metadata": {},
   "outputs": [],
   "source": []
  }
 ],
 "metadata": {
  "kernelspec": {
   "display_name": "Python 3",
   "language": "python",
   "name": "python3"
  },
  "language_info": {
   "codemirror_mode": {
    "name": "ipython",
    "version": 3
   },
   "file_extension": ".py",
   "mimetype": "text/x-python",
   "name": "python",
   "nbconvert_exporter": "python",
   "pygments_lexer": "ipython3",
   "version": "3.6.6"
  }
 },
 "nbformat": 4,
 "nbformat_minor": 2
}
