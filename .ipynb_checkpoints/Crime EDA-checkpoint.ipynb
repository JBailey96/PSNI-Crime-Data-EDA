{
 "cells": [
  {
   "cell_type": "markdown",
   "metadata": {},
   "source": [
    "# Importing Data & Cleaning"
   ]
  },
  {
   "cell_type": "code",
   "execution_count": 1,
   "metadata": {},
   "outputs": [],
   "source": [
    "import pandas as pd, re\n",
    "import matplotlib.pyplot as plt\n",
    "import glob\n",
    "import os\n",
    "import numpy as np\n",
    "import math\n",
    "import seaborn as sb"
   ]
  },
  {
   "cell_type": "markdown",
   "metadata": {},
   "source": [
    "<b> Importing PSNI street crime data from 08-2015 to 05-2018 and displaying the first five rows </b>"
   ]
  },
  {
   "cell_type": "code",
   "execution_count": 2,
   "metadata": {},
   "outputs": [
    {
     "data": {
      "text/html": [
       "<div>\n",
       "<style scoped>\n",
       "    .dataframe tbody tr th:only-of-type {\n",
       "        vertical-align: middle;\n",
       "    }\n",
       "\n",
       "    .dataframe tbody tr th {\n",
       "        vertical-align: top;\n",
       "    }\n",
       "\n",
       "    .dataframe thead th {\n",
       "        text-align: right;\n",
       "    }\n",
       "</style>\n",
       "<table border=\"1\" class=\"dataframe\">\n",
       "  <thead>\n",
       "    <tr style=\"text-align: right;\">\n",
       "      <th></th>\n",
       "      <th>Crime ID</th>\n",
       "      <th>Month</th>\n",
       "      <th>Reported by</th>\n",
       "      <th>Falls within</th>\n",
       "      <th>Longitude</th>\n",
       "      <th>Latitude</th>\n",
       "      <th>Location</th>\n",
       "      <th>LSOA code</th>\n",
       "      <th>LSOA name</th>\n",
       "      <th>Crime type</th>\n",
       "      <th>Last outcome category</th>\n",
       "      <th>Context</th>\n",
       "    </tr>\n",
       "  </thead>\n",
       "  <tbody>\n",
       "    <tr>\n",
       "      <th>0</th>\n",
       "      <td>NaN</td>\n",
       "      <td>2015-08</td>\n",
       "      <td>Police Service of Northern Ireland</td>\n",
       "      <td>Police Service of Northern Ireland</td>\n",
       "      <td>-7.378949</td>\n",
       "      <td>54.717334</td>\n",
       "      <td>On or near Dublin Street</td>\n",
       "      <td>NaN</td>\n",
       "      <td>NaN</td>\n",
       "      <td>Anti-social behaviour</td>\n",
       "      <td>NaN</td>\n",
       "      <td>NaN</td>\n",
       "    </tr>\n",
       "    <tr>\n",
       "      <th>1</th>\n",
       "      <td>NaN</td>\n",
       "      <td>2015-08</td>\n",
       "      <td>Police Service of Northern Ireland</td>\n",
       "      <td>Police Service of Northern Ireland</td>\n",
       "      <td>-5.891082</td>\n",
       "      <td>54.222501</td>\n",
       "      <td>On or near Bracken Avenue</td>\n",
       "      <td>NaN</td>\n",
       "      <td>NaN</td>\n",
       "      <td>Anti-social behaviour</td>\n",
       "      <td>NaN</td>\n",
       "      <td>NaN</td>\n",
       "    </tr>\n",
       "    <tr>\n",
       "      <th>2</th>\n",
       "      <td>NaN</td>\n",
       "      <td>2015-08</td>\n",
       "      <td>Police Service of Northern Ireland</td>\n",
       "      <td>Police Service of Northern Ireland</td>\n",
       "      <td>-5.667276</td>\n",
       "      <td>54.663573</td>\n",
       "      <td>On or near High Street</td>\n",
       "      <td>NaN</td>\n",
       "      <td>NaN</td>\n",
       "      <td>Anti-social behaviour</td>\n",
       "      <td>NaN</td>\n",
       "      <td>NaN</td>\n",
       "    </tr>\n",
       "    <tr>\n",
       "      <th>3</th>\n",
       "      <td>NaN</td>\n",
       "      <td>2015-08</td>\n",
       "      <td>Police Service of Northern Ireland</td>\n",
       "      <td>Police Service of Northern Ireland</td>\n",
       "      <td>-5.962330</td>\n",
       "      <td>54.587243</td>\n",
       "      <td>On or near Rodney Parade</td>\n",
       "      <td>NaN</td>\n",
       "      <td>NaN</td>\n",
       "      <td>Anti-social behaviour</td>\n",
       "      <td>NaN</td>\n",
       "      <td>NaN</td>\n",
       "    </tr>\n",
       "    <tr>\n",
       "      <th>4</th>\n",
       "      <td>NaN</td>\n",
       "      <td>2015-08</td>\n",
       "      <td>Police Service of Northern Ireland</td>\n",
       "      <td>Police Service of Northern Ireland</td>\n",
       "      <td>-5.894063</td>\n",
       "      <td>54.590423</td>\n",
       "      <td>On or near Brenda Street</td>\n",
       "      <td>NaN</td>\n",
       "      <td>NaN</td>\n",
       "      <td>Anti-social behaviour</td>\n",
       "      <td>NaN</td>\n",
       "      <td>NaN</td>\n",
       "    </tr>\n",
       "  </tbody>\n",
       "</table>\n",
       "</div>"
      ],
      "text/plain": [
       "  Crime ID    Month                         Reported by  \\\n",
       "0      NaN  2015-08  Police Service of Northern Ireland   \n",
       "1      NaN  2015-08  Police Service of Northern Ireland   \n",
       "2      NaN  2015-08  Police Service of Northern Ireland   \n",
       "3      NaN  2015-08  Police Service of Northern Ireland   \n",
       "4      NaN  2015-08  Police Service of Northern Ireland   \n",
       "\n",
       "                         Falls within  Longitude   Latitude  \\\n",
       "0  Police Service of Northern Ireland  -7.378949  54.717334   \n",
       "1  Police Service of Northern Ireland  -5.891082  54.222501   \n",
       "2  Police Service of Northern Ireland  -5.667276  54.663573   \n",
       "3  Police Service of Northern Ireland  -5.962330  54.587243   \n",
       "4  Police Service of Northern Ireland  -5.894063  54.590423   \n",
       "\n",
       "                    Location  LSOA code  LSOA name             Crime type  \\\n",
       "0   On or near Dublin Street        NaN        NaN  Anti-social behaviour   \n",
       "1  On or near Bracken Avenue        NaN        NaN  Anti-social behaviour   \n",
       "2     On or near High Street        NaN        NaN  Anti-social behaviour   \n",
       "3   On or near Rodney Parade        NaN        NaN  Anti-social behaviour   \n",
       "4   On or near Brenda Street        NaN        NaN  Anti-social behaviour   \n",
       "\n",
       "   Last outcome category  Context  \n",
       "0                    NaN      NaN  \n",
       "1                    NaN      NaN  \n",
       "2                    NaN      NaN  \n",
       "3                    NaN      NaN  \n",
       "4                    NaN      NaN  "
      ]
     },
     "execution_count": 2,
     "metadata": {},
     "output_type": "execute_result"
    }
   ],
   "source": [
    "src_dir ='../../data/PSNI_StreetCrime_1Year'\n",
    "psni_crime_data = pd.DataFrame()\n",
    "list_ = []\n",
    "i = 0\n",
    "for root, dirs, files in os.walk(src_dir):\n",
    "    allFiles = glob.glob(root + \"/*.csv\")\n",
    "    for file in allFiles:\n",
    "        year_df = pd.read_csv(file,index_col=None, header=0)\n",
    "        list_.append(year_df)\n",
    "        psni_crime_data = pd.concat(list_)\n",
    "psni_crime_data.head()"
   ]
  },
  {
   "cell_type": "markdown",
   "metadata": {},
   "source": [
    "<b> Let's look at the data frame from a high level and identify the data type and stored data in the columns  </b>"
   ]
  },
  {
   "cell_type": "code",
   "execution_count": 3,
   "metadata": {},
   "outputs": [
    {
     "name": "stdout",
     "output_type": "stream",
     "text": [
      "<class 'pandas.core.frame.DataFrame'>\n",
      "Int64Index: 445745 entries, 0 to 13728\n",
      "Data columns (total 12 columns):\n",
      "Crime ID                 274726 non-null object\n",
      "Month                    445745 non-null object\n",
      "Reported by              445745 non-null object\n",
      "Falls within             445745 non-null object\n",
      "Longitude                443370 non-null float64\n",
      "Latitude                 443370 non-null float64\n",
      "Location                 445745 non-null object\n",
      "LSOA code                0 non-null float64\n",
      "LSOA name                0 non-null float64\n",
      "Crime type               445745 non-null object\n",
      "Last outcome category    0 non-null float64\n",
      "Context                  0 non-null float64\n",
      "dtypes: float64(6), object(6)\n",
      "memory usage: 44.2+ MB\n"
     ]
    }
   ],
   "source": [
    "psni_crime_data.info()"
   ]
  },
  {
   "cell_type": "markdown",
   "metadata": {},
   "source": [
    "<b> There are a number of fields that are redundant, containing all null values. Let's drop them from the table.  </b>"
   ]
  },
  {
   "cell_type": "code",
   "execution_count": 4,
   "metadata": {},
   "outputs": [],
   "source": [
    "psni_crime_data = psni_crime_data.drop(['LSOA code', 'LSOA name', 'Last outcome category', 'Context'], axis=1)"
   ]
  },
  {
   "cell_type": "code",
   "execution_count": 5,
   "metadata": {},
   "outputs": [
    {
     "data": {
      "text/html": [
       "<div>\n",
       "<style scoped>\n",
       "    .dataframe tbody tr th:only-of-type {\n",
       "        vertical-align: middle;\n",
       "    }\n",
       "\n",
       "    .dataframe tbody tr th {\n",
       "        vertical-align: top;\n",
       "    }\n",
       "\n",
       "    .dataframe thead th {\n",
       "        text-align: right;\n",
       "    }\n",
       "</style>\n",
       "<table border=\"1\" class=\"dataframe\">\n",
       "  <thead>\n",
       "    <tr style=\"text-align: right;\">\n",
       "      <th></th>\n",
       "      <th>Crime ID</th>\n",
       "      <th>Month</th>\n",
       "      <th>Reported by</th>\n",
       "      <th>Falls within</th>\n",
       "      <th>Longitude</th>\n",
       "      <th>Latitude</th>\n",
       "      <th>Location</th>\n",
       "      <th>Crime type</th>\n",
       "    </tr>\n",
       "  </thead>\n",
       "  <tbody>\n",
       "    <tr>\n",
       "      <th>count</th>\n",
       "      <td>274726</td>\n",
       "      <td>445745</td>\n",
       "      <td>445745</td>\n",
       "      <td>445745</td>\n",
       "      <td>443370.000000</td>\n",
       "      <td>443370.000000</td>\n",
       "      <td>445745</td>\n",
       "      <td>445745</td>\n",
       "    </tr>\n",
       "    <tr>\n",
       "      <th>unique</th>\n",
       "      <td>11728</td>\n",
       "      <td>34</td>\n",
       "      <td>1</td>\n",
       "      <td>1</td>\n",
       "      <td>NaN</td>\n",
       "      <td>NaN</td>\n",
       "      <td>14872</td>\n",
       "      <td>14</td>\n",
       "    </tr>\n",
       "    <tr>\n",
       "      <th>top</th>\n",
       "      <td>bf1e1ad9c92a91909b8448a33f04b9fd947df22d5a6478...</td>\n",
       "      <td>2015-10</td>\n",
       "      <td>Police Service of Northern Ireland</td>\n",
       "      <td>Police Service of Northern Ireland</td>\n",
       "      <td>NaN</td>\n",
       "      <td>NaN</td>\n",
       "      <td>On or near</td>\n",
       "      <td>Anti-social behaviour</td>\n",
       "    </tr>\n",
       "    <tr>\n",
       "      <th>freq</th>\n",
       "      <td>34</td>\n",
       "      <td>15444</td>\n",
       "      <td>445745</td>\n",
       "      <td>445745</td>\n",
       "      <td>NaN</td>\n",
       "      <td>NaN</td>\n",
       "      <td>61638</td>\n",
       "      <td>171019</td>\n",
       "    </tr>\n",
       "    <tr>\n",
       "      <th>mean</th>\n",
       "      <td>NaN</td>\n",
       "      <td>NaN</td>\n",
       "      <td>NaN</td>\n",
       "      <td>NaN</td>\n",
       "      <td>-6.268281</td>\n",
       "      <td>54.620995</td>\n",
       "      <td>NaN</td>\n",
       "      <td>NaN</td>\n",
       "    </tr>\n",
       "    <tr>\n",
       "      <th>std</th>\n",
       "      <td>NaN</td>\n",
       "      <td>NaN</td>\n",
       "      <td>NaN</td>\n",
       "      <td>NaN</td>\n",
       "      <td>0.527199</td>\n",
       "      <td>0.227856</td>\n",
       "      <td>NaN</td>\n",
       "      <td>NaN</td>\n",
       "    </tr>\n",
       "    <tr>\n",
       "      <th>min</th>\n",
       "      <td>NaN</td>\n",
       "      <td>NaN</td>\n",
       "      <td>NaN</td>\n",
       "      <td>NaN</td>\n",
       "      <td>-8.148313</td>\n",
       "      <td>54.026858</td>\n",
       "      <td>NaN</td>\n",
       "      <td>NaN</td>\n",
       "    </tr>\n",
       "    <tr>\n",
       "      <th>25%</th>\n",
       "      <td>NaN</td>\n",
       "      <td>NaN</td>\n",
       "      <td>NaN</td>\n",
       "      <td>NaN</td>\n",
       "      <td>-6.512727</td>\n",
       "      <td>54.511284</td>\n",
       "      <td>NaN</td>\n",
       "      <td>NaN</td>\n",
       "    </tr>\n",
       "    <tr>\n",
       "      <th>50%</th>\n",
       "      <td>NaN</td>\n",
       "      <td>NaN</td>\n",
       "      <td>NaN</td>\n",
       "      <td>NaN</td>\n",
       "      <td>-6.011100</td>\n",
       "      <td>54.597057</td>\n",
       "      <td>NaN</td>\n",
       "      <td>NaN</td>\n",
       "    </tr>\n",
       "    <tr>\n",
       "      <th>75%</th>\n",
       "      <td>NaN</td>\n",
       "      <td>NaN</td>\n",
       "      <td>NaN</td>\n",
       "      <td>NaN</td>\n",
       "      <td>-5.924801</td>\n",
       "      <td>54.697173</td>\n",
       "      <td>NaN</td>\n",
       "      <td>NaN</td>\n",
       "    </tr>\n",
       "    <tr>\n",
       "      <th>max</th>\n",
       "      <td>NaN</td>\n",
       "      <td>NaN</td>\n",
       "      <td>NaN</td>\n",
       "      <td>NaN</td>\n",
       "      <td>-5.434918</td>\n",
       "      <td>55.240074</td>\n",
       "      <td>NaN</td>\n",
       "      <td>NaN</td>\n",
       "    </tr>\n",
       "  </tbody>\n",
       "</table>\n",
       "</div>"
      ],
      "text/plain": [
       "                                                 Crime ID    Month  \\\n",
       "count                                              274726   445745   \n",
       "unique                                              11728       34   \n",
       "top     bf1e1ad9c92a91909b8448a33f04b9fd947df22d5a6478...  2015-10   \n",
       "freq                                                   34    15444   \n",
       "mean                                                  NaN      NaN   \n",
       "std                                                   NaN      NaN   \n",
       "min                                                   NaN      NaN   \n",
       "25%                                                   NaN      NaN   \n",
       "50%                                                   NaN      NaN   \n",
       "75%                                                   NaN      NaN   \n",
       "max                                                   NaN      NaN   \n",
       "\n",
       "                               Reported by  \\\n",
       "count                               445745   \n",
       "unique                                   1   \n",
       "top     Police Service of Northern Ireland   \n",
       "freq                                445745   \n",
       "mean                                   NaN   \n",
       "std                                    NaN   \n",
       "min                                    NaN   \n",
       "25%                                    NaN   \n",
       "50%                                    NaN   \n",
       "75%                                    NaN   \n",
       "max                                    NaN   \n",
       "\n",
       "                              Falls within      Longitude       Latitude  \\\n",
       "count                               445745  443370.000000  443370.000000   \n",
       "unique                                   1            NaN            NaN   \n",
       "top     Police Service of Northern Ireland            NaN            NaN   \n",
       "freq                                445745            NaN            NaN   \n",
       "mean                                   NaN      -6.268281      54.620995   \n",
       "std                                    NaN       0.527199       0.227856   \n",
       "min                                    NaN      -8.148313      54.026858   \n",
       "25%                                    NaN      -6.512727      54.511284   \n",
       "50%                                    NaN      -6.011100      54.597057   \n",
       "75%                                    NaN      -5.924801      54.697173   \n",
       "max                                    NaN      -5.434918      55.240074   \n",
       "\n",
       "           Location             Crime type  \n",
       "count        445745                 445745  \n",
       "unique        14872                     14  \n",
       "top     On or near   Anti-social behaviour  \n",
       "freq          61638                 171019  \n",
       "mean            NaN                    NaN  \n",
       "std             NaN                    NaN  \n",
       "min             NaN                    NaN  \n",
       "25%             NaN                    NaN  \n",
       "50%             NaN                    NaN  \n",
       "75%             NaN                    NaN  \n",
       "max             NaN                    NaN  "
      ]
     },
     "execution_count": 5,
     "metadata": {},
     "output_type": "execute_result"
    }
   ],
   "source": [
    "psni_crime_data.describe(include='all')"
   ]
  },
  {
   "cell_type": "markdown",
   "metadata": {},
   "source": [
    "<b> Crime ID is not shared by all the rows. According to the official police API (https://data.police.uk/docs/method/crime-street/), this is used as an ID for the API and is not a police identifier.  Let's investigate this ID further and decide whether it is valuable to have in the table. </b>"
   ]
  },
  {
   "cell_type": "code",
   "execution_count": 6,
   "metadata": {
    "scrolled": true
   },
   "outputs": [
    {
     "name": "stdout",
     "output_type": "stream",
     "text": [
      "Number of unique crime ids: 11728\n"
     ]
    },
    {
     "data": {
      "text/plain": [
       "Crime type\n",
       "Anti-social behaviour                0\n",
       "Bicycle theft                     2141\n",
       "Burglary                         20368\n",
       "Criminal damage and arson        52336\n",
       "Drugs                            16483\n",
       "Other crime                       7472\n",
       "Other theft                      37313\n",
       "Possession of weapons             2701\n",
       "Public order                      3334\n",
       "Robbery                           1732\n",
       "Shoplifting                      17389\n",
       "Theft from the person             1253\n",
       "Vehicle crime                    11743\n",
       "Violence and sexual offences    100461\n",
       "Name: Crime ID, dtype: int64"
      ]
     },
     "execution_count": 6,
     "metadata": {},
     "output_type": "execute_result"
    }
   ],
   "source": [
    "num_unique_crime_ids = psni_crime_data['Crime ID'].nunique()\n",
    "print(f\"Number of unique crime ids: {num_unique_crime_ids}\")\n",
    "\n",
    "psni_crime_data_crimetype = psni_crime_data.groupby('Crime type')['Crime ID'].count()\n",
    "psni_crime_data_crimetype"
   ]
  },
  {
   "cell_type": "markdown",
   "metadata": {},
   "source": [
    "<b> Anti social behaviour does not have any Crime IDs associated with them. As Crime ID is not unique this makes me suspect there could be duplicates of the same crime in the table. I'm going to investigate this by finding rows with the same Crime ID, Month, Longitude, Latitude, Location and Crime Type </b>"
   ]
  },
  {
   "cell_type": "code",
   "execution_count": 7,
   "metadata": {},
   "outputs": [],
   "source": [
    "grouped_psni_crime_data = psni_crime_data.fillna(-1).groupby(['Crime ID','Month', 'Longitude','Latitude', 'Location', 'Crime type']).size().reset_index(name='counts')"
   ]
  },
  {
   "cell_type": "code",
   "execution_count": 8,
   "metadata": {},
   "outputs": [
    {
     "name": "stdout",
     "output_type": "stream",
     "text": [
      "16.3%\n"
     ]
    }
   ],
   "source": [
    "num_duplicate_rows = grouped_psni_crime_data[grouped_psni_crime_data.counts > 1].counts.sum()\n",
    "percent_duplicate_rows = \"{:.1%}\".format(num_duplicate_rows/len(psni_crime_data))\n",
    "print(f\"{percent_duplicate_rows}\")"
   ]
  },
  {
   "cell_type": "markdown",
   "metadata": {},
   "source": [
    "<b> 16.3% of rows could be potentially duplicate. I will drop Crime ID as it is not an effective unique identifier for the rows and has no use interacting with the Police API.</b>"
   ]
  },
  {
   "cell_type": "code",
   "execution_count": 9,
   "metadata": {},
   "outputs": [],
   "source": [
    "psni_crime_data = psni_crime_data.drop(['Crime ID'], axis=1)"
   ]
  },
  {
   "cell_type": "markdown",
   "metadata": {},
   "source": [
    "<b> 'Reported by' and 'Falls within' columns can be dropped as in all entries they are both set to 'Police Service of Northern Ireland'</b>"
   ]
  },
  {
   "cell_type": "code",
   "execution_count": 10,
   "metadata": {},
   "outputs": [
    {
     "name": "stdout",
     "output_type": "stream",
     "text": [
      "1\n",
      "1\n"
     ]
    }
   ],
   "source": [
    "print(psni_crime_data['Reported by'].nunique())\n",
    "print(psni_crime_data['Falls within'].nunique())\n",
    "psni_crime_data = psni_crime_data.drop(['Reported by', 'Falls within'], axis=1)"
   ]
  },
  {
   "cell_type": "markdown",
   "metadata": {},
   "source": [
    "<b> There is NaN float values in the longitude and latitude. Let's investigate this further. </b>"
   ]
  },
  {
   "cell_type": "code",
   "execution_count": 11,
   "metadata": {},
   "outputs": [
    {
     "data": {
      "text/html": [
       "<div>\n",
       "<style scoped>\n",
       "    .dataframe tbody tr th:only-of-type {\n",
       "        vertical-align: middle;\n",
       "    }\n",
       "\n",
       "    .dataframe tbody tr th {\n",
       "        vertical-align: top;\n",
       "    }\n",
       "\n",
       "    .dataframe thead th {\n",
       "        text-align: right;\n",
       "    }\n",
       "</style>\n",
       "<table border=\"1\" class=\"dataframe\">\n",
       "  <thead>\n",
       "    <tr style=\"text-align: right;\">\n",
       "      <th></th>\n",
       "      <th>Month</th>\n",
       "      <th>Longitude</th>\n",
       "      <th>Latitude</th>\n",
       "      <th>Location</th>\n",
       "      <th>Crime type</th>\n",
       "    </tr>\n",
       "  </thead>\n",
       "  <tbody>\n",
       "    <tr>\n",
       "      <th>225</th>\n",
       "      <td>2015-08</td>\n",
       "      <td>NaN</td>\n",
       "      <td>NaN</td>\n",
       "      <td>No Location</td>\n",
       "      <td>Anti-social behaviour</td>\n",
       "    </tr>\n",
       "    <tr>\n",
       "      <th>3812</th>\n",
       "      <td>2015-08</td>\n",
       "      <td>NaN</td>\n",
       "      <td>NaN</td>\n",
       "      <td>No Location</td>\n",
       "      <td>Anti-social behaviour</td>\n",
       "    </tr>\n",
       "    <tr>\n",
       "      <th>5713</th>\n",
       "      <td>2015-08</td>\n",
       "      <td>NaN</td>\n",
       "      <td>NaN</td>\n",
       "      <td>No Location</td>\n",
       "      <td>Bicycle theft</td>\n",
       "    </tr>\n",
       "    <tr>\n",
       "      <th>5732</th>\n",
       "      <td>2015-08</td>\n",
       "      <td>NaN</td>\n",
       "      <td>NaN</td>\n",
       "      <td>No Location</td>\n",
       "      <td>Bicycle theft</td>\n",
       "    </tr>\n",
       "    <tr>\n",
       "      <th>6223</th>\n",
       "      <td>2015-08</td>\n",
       "      <td>NaN</td>\n",
       "      <td>NaN</td>\n",
       "      <td>No Location</td>\n",
       "      <td>Burglary</td>\n",
       "    </tr>\n",
       "  </tbody>\n",
       "</table>\n",
       "</div>"
      ],
      "text/plain": [
       "        Month  Longitude  Latitude     Location             Crime type\n",
       "225   2015-08        NaN       NaN  No Location  Anti-social behaviour\n",
       "3812  2015-08        NaN       NaN  No Location  Anti-social behaviour\n",
       "5713  2015-08        NaN       NaN  No Location          Bicycle theft\n",
       "5732  2015-08        NaN       NaN  No Location          Bicycle theft\n",
       "6223  2015-08        NaN       NaN  No Location               Burglary"
      ]
     },
     "execution_count": 11,
     "metadata": {},
     "output_type": "execute_result"
    }
   ],
   "source": [
    "psni_crime_data[psni_crime_data['Longitude'].isnull() | psni_crime_data['Longitude'].isnull()].head()\n"
   ]
  },
  {
   "cell_type": "markdown",
   "metadata": {},
   "source": [
    "<b> I'm going to verify that No Location value in Location has a direct relationship with Longitude and Latitude </b>"
   ]
  },
  {
   "cell_type": "code",
   "execution_count": 12,
   "metadata": {},
   "outputs": [
    {
     "data": {
      "text/html": [
       "<div>\n",
       "<style scoped>\n",
       "    .dataframe tbody tr th:only-of-type {\n",
       "        vertical-align: middle;\n",
       "    }\n",
       "\n",
       "    .dataframe tbody tr th {\n",
       "        vertical-align: top;\n",
       "    }\n",
       "\n",
       "    .dataframe thead th {\n",
       "        text-align: right;\n",
       "    }\n",
       "</style>\n",
       "<table border=\"1\" class=\"dataframe\">\n",
       "  <thead>\n",
       "    <tr style=\"text-align: right;\">\n",
       "      <th></th>\n",
       "      <th>Month</th>\n",
       "      <th>Longitude</th>\n",
       "      <th>Latitude</th>\n",
       "      <th>Location</th>\n",
       "      <th>Crime type</th>\n",
       "    </tr>\n",
       "  </thead>\n",
       "  <tbody>\n",
       "  </tbody>\n",
       "</table>\n",
       "</div>"
      ],
      "text/plain": [
       "Empty DataFrame\n",
       "Columns: [Month, Longitude, Latitude, Location, Crime type]\n",
       "Index: []"
      ]
     },
     "execution_count": 12,
     "metadata": {},
     "output_type": "execute_result"
    }
   ],
   "source": [
    "psni_crime_data[(psni_crime_data['Location'] == 'No Location') & ~(psni_crime_data['Longitude'].isnull() & psni_crime_data['Longitude'].isnull())].head()"
   ]
  },
  {
   "cell_type": "markdown",
   "metadata": {},
   "source": [
    "<b> Let's add a binary column that is 1 if the location associated and 0 if it does not not. This will make excluding these datasets more manageable when geographing the crimes. </b>"
   ]
  },
  {
   "cell_type": "code",
   "execution_count": 13,
   "metadata": {},
   "outputs": [],
   "source": [
    "def has_location(row):\n",
    "    if (math.isnan(row['Longitude']) or math.isnan(row['Latitude']) or row['Location'] == 'No Location'):\n",
    "        return False\n",
    "    else:\n",
    "        return True\n",
    "\n",
    "psni_crime_data['Has_Location'] = psni_crime_data.apply(lambda row: has_location (row),axis=1)"
   ]
  },
  {
   "cell_type": "code",
   "execution_count": 14,
   "metadata": {},
   "outputs": [
    {
     "data": {
      "text/plain": [
       "Month            object\n",
       "Longitude       float64\n",
       "Latitude        float64\n",
       "Location         object\n",
       "Crime type       object\n",
       "Has_Location       bool\n",
       "dtype: object"
      ]
     },
     "execution_count": 14,
     "metadata": {},
     "output_type": "execute_result"
    }
   ],
   "source": [
    "psni_crime_data.dtypes"
   ]
  },
  {
   "cell_type": "markdown",
   "metadata": {},
   "source": [
    "<b> The month column data is presented in the format yyyy-mm. This can be converted to datetime split up into more columns to allow for more information to be derived. </b>"
   ]
  },
  {
   "cell_type": "code",
   "execution_count": 15,
   "metadata": {},
   "outputs": [],
   "source": [
    "psni_crime_data['Date'] = pd.to_datetime(psni_crime_data['Month'], format='%Y-%m')\n",
    "psni_crime_data = psni_crime_data.drop(['Month'], axis=1)"
   ]
  },
  {
   "cell_type": "code",
   "execution_count": 16,
   "metadata": {},
   "outputs": [],
   "source": [
    "def add_datepart(df, fldname, drop=True, time=False):\n",
    "    \"\"\"add_datepart converts a column of df from a datetime64 to many columns containing\n",
    "    the information from the date. This applies changes inplace.\n",
    "    Parameters:\n",
    "    -----------\n",
    "    df: A pandas data frame. df gain several new columns.\n",
    "    fldname: A string that is the name of the date column you wish to expand.\n",
    "        If it is not a datetime64 series, it will be converted to one with pd.to_datetime.\n",
    "    drop: If true then the original date column will be removed.\n",
    "    time: If true time features: Hour, Minute, Second will be added.\n",
    "    Examples:\n",
    "    ---------\n",
    "    >>> df = pd.DataFrame({ 'A' : pd.to_datetime(['3/11/2000', '3/12/2000', '3/13/2000'], infer_datetime_format=False) })\n",
    "    >>> df\n",
    "        A\n",
    "    0   2000-03-11\n",
    "    1   2000-03-12\n",
    "    2   2000-03-13\n",
    "    >>> add_datepart(df, 'A')\n",
    "    >>> df\n",
    "        AYear AMonth AWeek ADay ADayofweek ADayofyear AIs_month_end AIs_month_start AIs_quarter_end AIs_quarter_start AIs_year_end AIs_year_start AElapsed\n",
    "    0   2000  3      10    11   5          71         False         False           False           False             False        False          952732800\n",
    "    1   2000  3      10    12   6          72         False         False           False           False             False        False          952819200\n",
    "    2   2000  3      11    13   0          73         False         False           False           False             False        False          952905600\n",
    "    \"\"\"\n",
    "    fld = df[fldname]\n",
    "    fld_dtype = fld.dtype\n",
    "    if isinstance(fld_dtype, pd.core.dtypes.dtypes.DatetimeTZDtype):\n",
    "        fld_dtype = np.datetime64\n",
    "\n",
    "    if not np.issubdtype(fld_dtype, np.datetime64):\n",
    "        df[fldname] = fld = pd.to_datetime(fld, infer_datetime_format=True)\n",
    "    targ_pre = re.sub('[Dd]ate$', '', fldname)\n",
    "    attr = ['Year', 'Month', 'Week', 'Quarter']\n",
    "    for n in attr: df[targ_pre + n] = getattr(fld.dt, n.lower())\n",
    "    if drop: df.drop(fldname, axis=1, inplace=True)\n",
    "        "
   ]
  },
  {
   "cell_type": "code",
   "execution_count": 17,
   "metadata": {},
   "outputs": [],
   "source": [
    "add_datepart(psni_crime_data, 'Date')"
   ]
  },
  {
   "cell_type": "code",
   "execution_count": 18,
   "metadata": {},
   "outputs": [
    {
     "data": {
      "text/plain": [
       "Longitude       float64\n",
       "Latitude        float64\n",
       "Location         object\n",
       "Crime type       object\n",
       "Has_Location       bool\n",
       "Year              int64\n",
       "Month             int64\n",
       "Week              int64\n",
       "Quarter           int64\n",
       "dtype: object"
      ]
     },
     "execution_count": 18,
     "metadata": {},
     "output_type": "execute_result"
    }
   ],
   "source": [
    "psni_crime_data.dtypes"
   ]
  },
  {
   "cell_type": "markdown",
   "metadata": {},
   "source": [
    "<b>Location has the streets listed with 'On or near' preceding them. This can be formatted for better location processing.</b>"
   ]
  },
  {
   "cell_type": "code",
   "execution_count": 19,
   "metadata": {},
   "outputs": [],
   "source": [
    "def format_street(row):\n",
    "    formattedstreet = row['Location']\n",
    "    formattedstreet = formattedstreet.replace('On or near', '')\n",
    "    formattedstreet = formattedstreet.strip()\n",
    "    return formattedstreet.lower()\n",
    "    \n",
    "\n",
    "psni_crime_data['Location'] = psni_crime_data.apply(lambda row: format_street(row), axis=1)"
   ]
  },
  {
   "cell_type": "code",
   "execution_count": 20,
   "metadata": {},
   "outputs": [
    {
     "data": {
      "text/html": [
       "<div>\n",
       "<style scoped>\n",
       "    .dataframe tbody tr th:only-of-type {\n",
       "        vertical-align: middle;\n",
       "    }\n",
       "\n",
       "    .dataframe tbody tr th {\n",
       "        vertical-align: top;\n",
       "    }\n",
       "\n",
       "    .dataframe thead th {\n",
       "        text-align: right;\n",
       "    }\n",
       "</style>\n",
       "<table border=\"1\" class=\"dataframe\">\n",
       "  <thead>\n",
       "    <tr style=\"text-align: right;\">\n",
       "      <th></th>\n",
       "      <th>Longitude</th>\n",
       "      <th>Latitude</th>\n",
       "      <th>Location</th>\n",
       "      <th>Crime type</th>\n",
       "      <th>Has_Location</th>\n",
       "      <th>Year</th>\n",
       "      <th>Month</th>\n",
       "      <th>Week</th>\n",
       "      <th>Quarter</th>\n",
       "    </tr>\n",
       "  </thead>\n",
       "  <tbody>\n",
       "    <tr>\n",
       "      <th>0</th>\n",
       "      <td>-7.378949</td>\n",
       "      <td>54.717334</td>\n",
       "      <td>dublin street</td>\n",
       "      <td>Anti-social behaviour</td>\n",
       "      <td>True</td>\n",
       "      <td>2015</td>\n",
       "      <td>8</td>\n",
       "      <td>31</td>\n",
       "      <td>3</td>\n",
       "    </tr>\n",
       "    <tr>\n",
       "      <th>3019</th>\n",
       "      <td>-7.378949</td>\n",
       "      <td>54.717334</td>\n",
       "      <td>dublin street</td>\n",
       "      <td>Anti-social behaviour</td>\n",
       "      <td>True</td>\n",
       "      <td>2015</td>\n",
       "      <td>8</td>\n",
       "      <td>31</td>\n",
       "      <td>3</td>\n",
       "    </tr>\n",
       "    <tr>\n",
       "      <th>6544</th>\n",
       "      <td>-7.378949</td>\n",
       "      <td>54.717334</td>\n",
       "      <td>dublin street</td>\n",
       "      <td>Criminal damage and arson</td>\n",
       "      <td>True</td>\n",
       "      <td>2015</td>\n",
       "      <td>8</td>\n",
       "      <td>31</td>\n",
       "      <td>3</td>\n",
       "    </tr>\n",
       "    <tr>\n",
       "      <th>2606</th>\n",
       "      <td>-7.380017</td>\n",
       "      <td>54.713413</td>\n",
       "      <td>dublin street</td>\n",
       "      <td>Anti-social behaviour</td>\n",
       "      <td>True</td>\n",
       "      <td>2015</td>\n",
       "      <td>9</td>\n",
       "      <td>36</td>\n",
       "      <td>3</td>\n",
       "    </tr>\n",
       "    <tr>\n",
       "      <th>877</th>\n",
       "      <td>-7.378949</td>\n",
       "      <td>54.717334</td>\n",
       "      <td>dublin street</td>\n",
       "      <td>Anti-social behaviour</td>\n",
       "      <td>True</td>\n",
       "      <td>2015</td>\n",
       "      <td>10</td>\n",
       "      <td>40</td>\n",
       "      <td>4</td>\n",
       "    </tr>\n",
       "  </tbody>\n",
       "</table>\n",
       "</div>"
      ],
      "text/plain": [
       "      Longitude   Latitude       Location                 Crime type  \\\n",
       "0     -7.378949  54.717334  dublin street      Anti-social behaviour   \n",
       "3019  -7.378949  54.717334  dublin street      Anti-social behaviour   \n",
       "6544  -7.378949  54.717334  dublin street  Criminal damage and arson   \n",
       "2606  -7.380017  54.713413  dublin street      Anti-social behaviour   \n",
       "877   -7.378949  54.717334  dublin street      Anti-social behaviour   \n",
       "\n",
       "      Has_Location  Year  Month  Week  Quarter  \n",
       "0             True  2015      8    31        3  \n",
       "3019          True  2015      8    31        3  \n",
       "6544          True  2015      8    31        3  \n",
       "2606          True  2015      9    36        3  \n",
       "877           True  2015     10    40        4  "
      ]
     },
     "execution_count": 20,
     "metadata": {},
     "output_type": "execute_result"
    }
   ],
   "source": [
    "psni_crime_data[psni_crime_data['Location'] == 'dublin street'].head(5)"
   ]
  },
  {
   "cell_type": "code",
   "execution_count": 21,
   "metadata": {},
   "outputs": [],
   "source": [
    "psni_crime_data.dtypes\n",
    "psni_crime_data['Crime type'] = psni_crime_data['Crime type'].astype('category')\n",
    "psni_crime_data['Location'] = psni_crime_data['Location'].astype('category')\n",
    "\n",
    "#psni_crime_data.describe()\n",
    "#psni_crime_data[(psni_crime_data.Has_Location) == True & (psni_crime_data.Location != '')]\n",
    "#sb.heatmap(psni_crime_data[psni_crime_data.Has_Location == True])"
   ]
  },
  {
   "cell_type": "code",
   "execution_count": 22,
   "metadata": {},
   "outputs": [
    {
     "data": {
      "text/plain": [
       "Longitude        float64\n",
       "Latitude         float64\n",
       "Location        category\n",
       "Crime type      category\n",
       "Has_Location        bool\n",
       "Year               int64\n",
       "Month              int64\n",
       "Week               int64\n",
       "Quarter            int64\n",
       "dtype: object"
      ]
     },
     "execution_count": 22,
     "metadata": {},
     "output_type": "execute_result"
    }
   ],
   "source": [
    "psni_crime_data.dtypes"
   ]
  },
  {
   "cell_type": "markdown",
   "metadata": {},
   "source": [
    "<b> I am now happy the data has been cleaned. </b>"
   ]
  },
  {
   "cell_type": "markdown",
   "metadata": {},
   "source": [
    "# Visualising some data"
   ]
  },
  {
   "cell_type": "markdown",
   "metadata": {},
   "source": [
    "<b> I am going to use the time specific columns first to see if there is any observations I can gather from the month, year and quarter of crime. The data ranges from 2015-08 to 2018-05 so I am going to choose 2016-01 to 2017-12 as the range to avoid data being skewed for months with more data. </b>"
   ]
  },
  {
   "cell_type": "code",
   "execution_count": 26,
   "metadata": {
    "scrolled": true
   },
   "outputs": [],
   "source": [
    "psni_crime_data = psni_crime_data.reset_index()\n",
    "psni_crime_data_ranged = psni_crime_data.drop(psni_crime_data[(psni_crime_data['Year'] == 2015) \\\n",
    "                                                              | ((psni_crime_data['Year'] == 2018))].index)\n",
    "psni_crime_data_grouped_month = psni_crime_data_ranged.groupby('Month').size().reset_index(name='counts')\n",
    "psni_crime_data_grouped_year = psni_crime_data_ranged.groupby('Year').size().reset_index(name='counts')\n",
    "psni_crime_data_grouped_quarter = psni_crime_data_ranged.groupby('Quarter').size().reset_index(name='counts')\n",
    "\n",
    "psni_crime_data_grouped_month_year = psni_crime_data_ranged.groupby(['Month', 'Year']).size().reset_index(name='counts')\n",
    "\n",
    "#plt.bar(psni_crime_data_grouped_year['Year'], psni_crime_data_grouped_year['counts'])\n",
    "#plt.pie(psni_crime_data['Crime type'])\n",
    "#sb.heatmap(psni_crime_data[psni_crime_data.Has_Location == True])\n",
    "#psni_crime_data_grouped_year = psni_crime_data.groupby('Year').size().reset_index(name='counts')"
   ]
  },
  {
   "cell_type": "code",
   "execution_count": 25,
   "metadata": {
    "scrolled": true
   },
   "outputs": [
    {
     "data": {
      "image/png": "[encoded data removed]",
      "text/plain": [
       "<Figure size 1080x720 with 3 Axes>"
      ]
     },
     "metadata": {
      "needs_background": "light"
     },
     "output_type": "display_data"
    }
   ],
   "source": [
    "plt.figure(figsize=(15,10))\n",
    "\n",
    "plt.subplot(2, 2, 1)\n",
    "plt.bar(psni_crime_data_grouped_month['Month'], psni_crime_data_grouped_month['counts'])\n",
    "plt.xticks(np.arange(1, 13, step=1.0),  ('Jan', 'Feb', 'Ma', 'Apr', 'May', 'Jun', 'Jul', 'Aug', 'Sep', 'Oct', 'Nov', 'Dec'))\n",
    "plt.xlabel('Months')\n",
    "plt.ylabel('Number of crimes')\n",
    "plt.title(\"Chart of all crimes and anti-social behaviour occuring per month\")\n",
    "\n",
    "plt.subplot(2,2,2)\n",
    "plt.bar(psni_crime_data_grouped_year['Year'], psni_crime_data_grouped_year['counts'], color=\"green\")\n",
    "plt.xticks(np.arange(min(psni_crime_data_grouped_year['Year']),max(psni_crime_data_grouped_year['Year']+1), step=1.0))\n",
    "plt.xlabel('Years')\n",
    "plt.ylabel('Number of crimes')\n",
    "plt.title(\"Chart of all crimes and anti-social behaviour occuring per year\")\n",
    "\n",
    "plt.subplot(2,2,3)\n",
    "plt.title(\"Chart of all crimes and anti-social behaviour occuring per quarter\")\n",
    "plt.pie(psni_crime_data_grouped_quarter['counts'], labels = psni_crime_data_grouped_quarter['Quarter'], autopct='%1.1f%%', shadow=False, startangle=90)\n",
    "plt.axis('equal')\n",
    "\n",
    "#plt.subplot(2,2,4)\n",
    "#plt.title(\"Chart of all crimes and anti-social behaviour occuring per month 2016 vs 2017)\n",
    "#plt.pie(psni_crime_data_grouped_quarter['counts'], labels = psni_crime_data_grouped_quarter['Quarter'], autopct='%1.1f%%', shadow=False, startangle=90)\n",
    "#plt.axis('equal')\n",
    "\n",
    "\n",
    "plt.subplots_adjust(hspace=0.5)\n",
    "plt.subplots_adjust(wspace=0.5)"
   ]
  },
  {
   "cell_type": "code",
   "execution_count": null,
   "metadata": {},
   "outputs": [],
   "source": []
  }
 ],
 "metadata": {
  "kernelspec": {
   "display_name": "Python 3",
   "language": "python",
   "name": "python3"
  },
  "language_info": {
   "codemirror_mode": {
    "name": "ipython",
    "version": 3
   },
   "file_extension": ".py",
   "mimetype": "text/x-python",
   "name": "python",
   "nbconvert_exporter": "python",
   "pygments_lexer": "ipython3",
   "version": "3.6.6"
  }
 },
 "nbformat": 4,
 "nbformat_minor": 2
}
